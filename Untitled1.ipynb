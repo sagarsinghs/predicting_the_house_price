{
 "cells": [
  {
   "cell_type": "code",
   "execution_count": 1,
   "metadata": {},
   "outputs": [
    {
     "data": {
      "text/html": [
       "<div>\n",
       "<style scoped>\n",
       "    .dataframe tbody tr th:only-of-type {\n",
       "        vertical-align: middle;\n",
       "    }\n",
       "\n",
       "    .dataframe tbody tr th {\n",
       "        vertical-align: top;\n",
       "    }\n",
       "\n",
       "    .dataframe thead th {\n",
       "        text-align: right;\n",
       "    }\n",
       "</style>\n",
       "<table border=\"1\" class=\"dataframe\">\n",
       "  <thead>\n",
       "    <tr style=\"text-align: right;\">\n",
       "      <th></th>\n",
       "      <th>id</th>\n",
       "      <th>date</th>\n",
       "      <th>price</th>\n",
       "      <th>bedrooms</th>\n",
       "      <th>bathrooms</th>\n",
       "      <th>sqft_living</th>\n",
       "      <th>sqft_lot</th>\n",
       "      <th>floors</th>\n",
       "      <th>waterfront</th>\n",
       "      <th>view</th>\n",
       "      <th>...</th>\n",
       "      <th>grade</th>\n",
       "      <th>sqft_above</th>\n",
       "      <th>sqft_basement</th>\n",
       "      <th>yr_built</th>\n",
       "      <th>yr_renovated</th>\n",
       "      <th>zipcode</th>\n",
       "      <th>lat</th>\n",
       "      <th>long</th>\n",
       "      <th>sqft_living15</th>\n",
       "      <th>sqft_lot15</th>\n",
       "    </tr>\n",
       "  </thead>\n",
       "  <tbody>\n",
       "    <tr>\n",
       "      <th>0</th>\n",
       "      <td>7129300520</td>\n",
       "      <td>20141013T000000</td>\n",
       "      <td>221900.0</td>\n",
       "      <td>3</td>\n",
       "      <td>1.00</td>\n",
       "      <td>1180</td>\n",
       "      <td>5650</td>\n",
       "      <td>1.0</td>\n",
       "      <td>0</td>\n",
       "      <td>0</td>\n",
       "      <td>...</td>\n",
       "      <td>7</td>\n",
       "      <td>1180</td>\n",
       "      <td>0</td>\n",
       "      <td>1955</td>\n",
       "      <td>0</td>\n",
       "      <td>98178</td>\n",
       "      <td>47.5112</td>\n",
       "      <td>-122.257</td>\n",
       "      <td>1340</td>\n",
       "      <td>5650</td>\n",
       "    </tr>\n",
       "    <tr>\n",
       "      <th>1</th>\n",
       "      <td>6414100192</td>\n",
       "      <td>20141209T000000</td>\n",
       "      <td>538000.0</td>\n",
       "      <td>3</td>\n",
       "      <td>2.25</td>\n",
       "      <td>2570</td>\n",
       "      <td>7242</td>\n",
       "      <td>2.0</td>\n",
       "      <td>0</td>\n",
       "      <td>0</td>\n",
       "      <td>...</td>\n",
       "      <td>7</td>\n",
       "      <td>2170</td>\n",
       "      <td>400</td>\n",
       "      <td>1951</td>\n",
       "      <td>1991</td>\n",
       "      <td>98125</td>\n",
       "      <td>47.7210</td>\n",
       "      <td>-122.319</td>\n",
       "      <td>1690</td>\n",
       "      <td>7639</td>\n",
       "    </tr>\n",
       "    <tr>\n",
       "      <th>2</th>\n",
       "      <td>5631500400</td>\n",
       "      <td>20150225T000000</td>\n",
       "      <td>180000.0</td>\n",
       "      <td>2</td>\n",
       "      <td>1.00</td>\n",
       "      <td>770</td>\n",
       "      <td>10000</td>\n",
       "      <td>1.0</td>\n",
       "      <td>0</td>\n",
       "      <td>0</td>\n",
       "      <td>...</td>\n",
       "      <td>6</td>\n",
       "      <td>770</td>\n",
       "      <td>0</td>\n",
       "      <td>1933</td>\n",
       "      <td>0</td>\n",
       "      <td>98028</td>\n",
       "      <td>47.7379</td>\n",
       "      <td>-122.233</td>\n",
       "      <td>2720</td>\n",
       "      <td>8062</td>\n",
       "    </tr>\n",
       "    <tr>\n",
       "      <th>3</th>\n",
       "      <td>2487200875</td>\n",
       "      <td>20141209T000000</td>\n",
       "      <td>604000.0</td>\n",
       "      <td>4</td>\n",
       "      <td>3.00</td>\n",
       "      <td>1960</td>\n",
       "      <td>5000</td>\n",
       "      <td>1.0</td>\n",
       "      <td>0</td>\n",
       "      <td>0</td>\n",
       "      <td>...</td>\n",
       "      <td>7</td>\n",
       "      <td>1050</td>\n",
       "      <td>910</td>\n",
       "      <td>1965</td>\n",
       "      <td>0</td>\n",
       "      <td>98136</td>\n",
       "      <td>47.5208</td>\n",
       "      <td>-122.393</td>\n",
       "      <td>1360</td>\n",
       "      <td>5000</td>\n",
       "    </tr>\n",
       "    <tr>\n",
       "      <th>4</th>\n",
       "      <td>1954400510</td>\n",
       "      <td>20150218T000000</td>\n",
       "      <td>510000.0</td>\n",
       "      <td>3</td>\n",
       "      <td>2.00</td>\n",
       "      <td>1680</td>\n",
       "      <td>8080</td>\n",
       "      <td>1.0</td>\n",
       "      <td>0</td>\n",
       "      <td>0</td>\n",
       "      <td>...</td>\n",
       "      <td>8</td>\n",
       "      <td>1680</td>\n",
       "      <td>0</td>\n",
       "      <td>1987</td>\n",
       "      <td>0</td>\n",
       "      <td>98074</td>\n",
       "      <td>47.6168</td>\n",
       "      <td>-122.045</td>\n",
       "      <td>1800</td>\n",
       "      <td>7503</td>\n",
       "    </tr>\n",
       "  </tbody>\n",
       "</table>\n",
       "<p>5 rows × 21 columns</p>\n",
       "</div>"
      ],
      "text/plain": [
       "           id             date     price  bedrooms  bathrooms  sqft_living  \\\n",
       "0  7129300520  20141013T000000  221900.0         3       1.00         1180   \n",
       "1  6414100192  20141209T000000  538000.0         3       2.25         2570   \n",
       "2  5631500400  20150225T000000  180000.0         2       1.00          770   \n",
       "3  2487200875  20141209T000000  604000.0         4       3.00         1960   \n",
       "4  1954400510  20150218T000000  510000.0         3       2.00         1680   \n",
       "\n",
       "   sqft_lot  floors  waterfront  view     ...      grade  sqft_above  \\\n",
       "0      5650     1.0           0     0     ...          7        1180   \n",
       "1      7242     2.0           0     0     ...          7        2170   \n",
       "2     10000     1.0           0     0     ...          6         770   \n",
       "3      5000     1.0           0     0     ...          7        1050   \n",
       "4      8080     1.0           0     0     ...          8        1680   \n",
       "\n",
       "   sqft_basement  yr_built  yr_renovated  zipcode      lat     long  \\\n",
       "0              0      1955             0    98178  47.5112 -122.257   \n",
       "1            400      1951          1991    98125  47.7210 -122.319   \n",
       "2              0      1933             0    98028  47.7379 -122.233   \n",
       "3            910      1965             0    98136  47.5208 -122.393   \n",
       "4              0      1987             0    98074  47.6168 -122.045   \n",
       "\n",
       "   sqft_living15  sqft_lot15  \n",
       "0           1340        5650  \n",
       "1           1690        7639  \n",
       "2           2720        8062  \n",
       "3           1360        5000  \n",
       "4           1800        7503  \n",
       "\n",
       "[5 rows x 21 columns]"
      ]
     },
     "execution_count": 1,
     "metadata": {},
     "output_type": "execute_result"
    }
   ],
   "source": [
    "import numpy as np\n",
    "import pandas as pd\n",
    "train = pd.read_csv('train.csv',delimiter=',',encoding='utf-8')\n",
    "train.head()"
   ]
  },
  {
   "cell_type": "markdown",
   "metadata": {},
   "source": [
    "lets see the co-relation matrix between the different features"
   ]
  },
  {
   "cell_type": "code",
   "execution_count": 2,
   "metadata": {},
   "outputs": [
    {
     "data": {
      "text/plain": [
       "price            1.000000\n",
       "sqft_living      0.701825\n",
       "grade            0.666636\n",
       "sqft_above       0.604754\n",
       "sqft_living15    0.588186\n",
       "bathrooms        0.524705\n",
       "view             0.399894\n",
       "sqft_basement    0.324712\n",
       "lat              0.308328\n",
       "bedrooms         0.306140\n",
       "waterfront       0.265634\n",
       "floors           0.264295\n",
       "yr_renovated     0.129521\n",
       "sqft_lot         0.088578\n",
       "sqft_lot15       0.080141\n",
       "yr_built         0.048807\n",
       "condition        0.040392\n",
       "long             0.017731\n",
       "id              -0.017402\n",
       "zipcode         -0.049309\n",
       "Name: price, dtype: float64"
      ]
     },
     "execution_count": 2,
     "metadata": {},
     "output_type": "execute_result"
    }
   ],
   "source": [
    "corr_matrix = train.corr()\n",
    "corr_matrix['price'].sort_values(ascending =False)"
   ]
  },
  {
   "cell_type": "markdown",
   "metadata": {},
   "source": [
    "We can clearly see that there is very less strength related to to the price of the house with the features starting from the waterfronts to the zipcode so itis just better t remove them for now"
   ]
  },
  {
   "cell_type": "code",
   "execution_count": 3,
   "metadata": {},
   "outputs": [],
   "source": [
    "train_new = train[['id','price','bedrooms','bathrooms','sqft_living','grade','sqft_living15','view','sqft_basement']]"
   ]
  },
  {
   "cell_type": "code",
   "execution_count": 4,
   "metadata": {},
   "outputs": [
    {
     "data": {
      "text/html": [
       "<div>\n",
       "<style scoped>\n",
       "    .dataframe tbody tr th:only-of-type {\n",
       "        vertical-align: middle;\n",
       "    }\n",
       "\n",
       "    .dataframe tbody tr th {\n",
       "        vertical-align: top;\n",
       "    }\n",
       "\n",
       "    .dataframe thead th {\n",
       "        text-align: right;\n",
       "    }\n",
       "</style>\n",
       "<table border=\"1\" class=\"dataframe\">\n",
       "  <thead>\n",
       "    <tr style=\"text-align: right;\">\n",
       "      <th></th>\n",
       "      <th>id</th>\n",
       "      <th>price</th>\n",
       "      <th>bedrooms</th>\n",
       "      <th>bathrooms</th>\n",
       "      <th>sqft_living</th>\n",
       "      <th>grade</th>\n",
       "      <th>sqft_living15</th>\n",
       "      <th>view</th>\n",
       "      <th>sqft_basement</th>\n",
       "    </tr>\n",
       "  </thead>\n",
       "  <tbody>\n",
       "    <tr>\n",
       "      <th>0</th>\n",
       "      <td>7129300520</td>\n",
       "      <td>221900.0</td>\n",
       "      <td>3</td>\n",
       "      <td>1.00</td>\n",
       "      <td>1180</td>\n",
       "      <td>7</td>\n",
       "      <td>1340</td>\n",
       "      <td>0</td>\n",
       "      <td>0</td>\n",
       "    </tr>\n",
       "    <tr>\n",
       "      <th>1</th>\n",
       "      <td>6414100192</td>\n",
       "      <td>538000.0</td>\n",
       "      <td>3</td>\n",
       "      <td>2.25</td>\n",
       "      <td>2570</td>\n",
       "      <td>7</td>\n",
       "      <td>1690</td>\n",
       "      <td>0</td>\n",
       "      <td>400</td>\n",
       "    </tr>\n",
       "    <tr>\n",
       "      <th>2</th>\n",
       "      <td>5631500400</td>\n",
       "      <td>180000.0</td>\n",
       "      <td>2</td>\n",
       "      <td>1.00</td>\n",
       "      <td>770</td>\n",
       "      <td>6</td>\n",
       "      <td>2720</td>\n",
       "      <td>0</td>\n",
       "      <td>0</td>\n",
       "    </tr>\n",
       "    <tr>\n",
       "      <th>3</th>\n",
       "      <td>2487200875</td>\n",
       "      <td>604000.0</td>\n",
       "      <td>4</td>\n",
       "      <td>3.00</td>\n",
       "      <td>1960</td>\n",
       "      <td>7</td>\n",
       "      <td>1360</td>\n",
       "      <td>0</td>\n",
       "      <td>910</td>\n",
       "    </tr>\n",
       "    <tr>\n",
       "      <th>4</th>\n",
       "      <td>1954400510</td>\n",
       "      <td>510000.0</td>\n",
       "      <td>3</td>\n",
       "      <td>2.00</td>\n",
       "      <td>1680</td>\n",
       "      <td>8</td>\n",
       "      <td>1800</td>\n",
       "      <td>0</td>\n",
       "      <td>0</td>\n",
       "    </tr>\n",
       "  </tbody>\n",
       "</table>\n",
       "</div>"
      ],
      "text/plain": [
       "           id     price  bedrooms  bathrooms  sqft_living  grade  \\\n",
       "0  7129300520  221900.0         3       1.00         1180      7   \n",
       "1  6414100192  538000.0         3       2.25         2570      7   \n",
       "2  5631500400  180000.0         2       1.00          770      6   \n",
       "3  2487200875  604000.0         4       3.00         1960      7   \n",
       "4  1954400510  510000.0         3       2.00         1680      8   \n",
       "\n",
       "   sqft_living15  view  sqft_basement  \n",
       "0           1340     0              0  \n",
       "1           1690     0            400  \n",
       "2           2720     0              0  \n",
       "3           1360     0            910  \n",
       "4           1800     0              0  "
      ]
     },
     "execution_count": 4,
     "metadata": {},
     "output_type": "execute_result"
    }
   ],
   "source": [
    "train_new.head()"
   ]
  },
  {
   "cell_type": "code",
   "execution_count": 5,
   "metadata": {},
   "outputs": [],
   "source": [
    "train_new.plot(kind='scatter',x ='grade',y = 'price',alpha =0.4)\n",
    "import matplotlib.pyplot as plt\n",
    "plt.savefig('check.png')"
   ]
  },
  {
   "cell_type": "code",
   "execution_count": 6,
   "metadata": {},
   "outputs": [
    {
     "name": "stderr",
     "output_type": "stream",
     "text": [
      "C:\\Users\\user 1\\Anaconda3\\envs\\env_dlib\\lib\\site-packages\\ipykernel_launcher.py:1: SettingWithCopyWarning: \n",
      "A value is trying to be set on a copy of a slice from a DataFrame.\n",
      "Try using .loc[row_indexer,col_indexer] = value instead\n",
      "\n",
      "See the caveats in the documentation: http://pandas.pydata.org/pandas-docs/stable/indexing.html#indexing-view-versus-copy\n",
      "  \"\"\"Entry point for launching an IPython kernel.\n"
     ]
    },
    {
     "data": {
      "text/plain": [
       "price             1.000000\n",
       "sqft_living       0.701825\n",
       "grade             0.666636\n",
       "sqft_living15     0.588186\n",
       "price_per_sqft    0.556877\n",
       "bathrooms         0.524705\n",
       "view              0.399894\n",
       "sqft_basement     0.324712\n",
       "bedrooms          0.306140\n",
       "id               -0.017402\n",
       "Name: price, dtype: float64"
      ]
     },
     "execution_count": 6,
     "metadata": {},
     "output_type": "execute_result"
    }
   ],
   "source": [
    "train_new['price_per_sqft'] = train_new['price']/train_new['sqft_living']\n",
    "corr_matrix = train_new.corr()\n",
    "corr_matrix[\"price\"].sort_values(ascending=False)"
   ]
  },
  {
   "cell_type": "markdown",
   "metadata": {},
   "source": [
    "Here we can clearly find that the price persqft is very much inclined to the price and has a higher magnitude thus we will keep it for the training part"
   ]
  },
  {
   "cell_type": "code",
   "execution_count": 7,
   "metadata": {},
   "outputs": [
    {
     "name": "stderr",
     "output_type": "stream",
     "text": [
      "C:\\Users\\user 1\\Anaconda3\\envs\\env_dlib\\lib\\site-packages\\ipykernel_launcher.py:1: SettingWithCopyWarning: \n",
      "A value is trying to be set on a copy of a slice from a DataFrame.\n",
      "Try using .loc[row_indexer,col_indexer] = value instead\n",
      "\n",
      "See the caveats in the documentation: http://pandas.pydata.org/pandas-docs/stable/indexing.html#indexing-view-versus-copy\n",
      "  \"\"\"Entry point for launching an IPython kernel.\n"
     ]
    },
    {
     "data": {
      "text/plain": [
       "price                1.000000\n",
       "price_per_sqft_15    0.776355\n",
       "sqft_living          0.701825\n",
       "grade                0.666636\n",
       "sqft_living15        0.588186\n",
       "price_per_sqft       0.556877\n",
       "bathrooms            0.524705\n",
       "view                 0.399894\n",
       "sqft_basement        0.324712\n",
       "bedrooms             0.306140\n",
       "id                  -0.017402\n",
       "Name: price, dtype: float64"
      ]
     },
     "execution_count": 7,
     "metadata": {},
     "output_type": "execute_result"
    }
   ],
   "source": [
    "train_new['price_per_sqft_15'] = train_new['price']/train_new['sqft_living15']\n",
    "corr_matrix = train_new.corr()\n",
    "corr_matrix[\"price\"].sort_values(ascending=False)"
   ]
  },
  {
   "cell_type": "markdown",
   "metadata": {},
   "source": [
    "Here we can clearly find that the price persqft is very much inclined to the price and has a higher magnitude thus we will keep it for the training part"
   ]
  },
  {
   "cell_type": "code",
   "execution_count": 8,
   "metadata": {},
   "outputs": [],
   "source": [
    "###this is for the non - normalized part  \n",
    "\n",
    "price = train_new['price'].values\n",
    "price_per_sqft_15 = train_new['price_per_sqft_15'].values\n",
    "sqft_living = train_new['sqft_living'].values\n",
    "grade = train_new['grade'].values\n",
    "sqft_living15 = train_new['sqft_living15'].values\n",
    "price_per_sqft = train_new['price_per_sqft'].values\n",
    "bathrooms =train_new['bathrooms'].values\n",
    "\n"
   ]
  },
  {
   "cell_type": "code",
   "execution_count": 9,
   "metadata": {},
   "outputs": [],
   "source": [
    "\n",
    "#here the dataset is the pandas dataframe which contains the datas after the normalizing it(i.e putting each data between the values \n",
    "#0 and 1)\n",
    "\n",
    "from sklearn.preprocessing import MinMaxScaler\n",
    "min_max=MinMaxScaler()\n",
    "#Scaling down both train and test data set\n",
    "train_swap1=min_max.fit_transform(train_new[['price_per_sqft_15','sqft_living', 'grade',\n",
    "                'sqft_living15', 'price','bathrooms','price_per_sqft']])\n",
    "\n",
    "dataset = pd.DataFrame({'price_per_sqft_15':train_swap1[:,0],'sqft_living':train_swap1[:,1],'grade':train_swap1[:,2],'sqft_living15':train_swap1[:,3],'price':train_swap1[:,4],'bathrooms':train_swap1[:,5],'price_per_sqft':train_swap1[:,6]})\n",
    "#dataset = pd.DataFrame({'Column1':data[:,0],'Column2':data[:,1]})\n",
    "\n",
    "price = dataset['price'].values\n",
    "price_per_sqft_15 = dataset['price_per_sqft_15'].values\n",
    "sqft_living = dataset['sqft_living'].values\n",
    "grade = dataset['grade'].values\n",
    "sqft_living15 = dataset['sqft_living15'].values\n",
    "price_per_sqft = dataset['price_per_sqft'].values\n",
    "bathrooms =dataset['bathrooms'].values\n",
    "\n"
   ]
  },
  {
   "cell_type": "code",
   "execution_count": 10,
   "metadata": {},
   "outputs": [
    {
     "name": "stdout",
     "output_type": "stream",
     "text": [
      "   price_per_sqft_15  sqft_living     grade  sqft_living15     price  \\\n",
      "0           0.065847     0.067170  0.500000       0.161934  0.019266   \n",
      "1           0.145618     0.172075  0.500000       0.222165  0.060721   \n",
      "2           0.013925     0.036226  0.416667       0.399415  0.013770   \n",
      "3           0.211303     0.126038  0.500000       0.165376  0.069377   \n",
      "4           0.127334     0.104906  0.583333       0.241094  0.057049   \n",
      "\n",
      "   bathrooms  price_per_sqft  \n",
      "0    0.12500        0.139039  \n",
      "1    0.28125        0.168501  \n",
      "2    0.12500        0.202308  \n",
      "3    0.37500        0.305273  \n",
      "4    0.25000        0.298918  \n"
     ]
    }
   ],
   "source": [
    "print(dataset.head())"
   ]
  },
  {
   "cell_type": "code",
   "execution_count": 11,
   "metadata": {},
   "outputs": [],
   "source": [
    "#maaking a csv file to put all the datas here.\n",
    "dataset.to_csv('dataset_final.csv',sep=',', encoding='utf-8')"
   ]
  },
  {
   "cell_type": "code",
   "execution_count": 51,
   "metadata": {},
   "outputs": [
    {
     "data": {
      "text/html": [
       "<div>\n",
       "<style scoped>\n",
       "    .dataframe tbody tr th:only-of-type {\n",
       "        vertical-align: middle;\n",
       "    }\n",
       "\n",
       "    .dataframe tbody tr th {\n",
       "        vertical-align: top;\n",
       "    }\n",
       "\n",
       "    .dataframe thead th {\n",
       "        text-align: right;\n",
       "    }\n",
       "</style>\n",
       "<table border=\"1\" class=\"dataframe\">\n",
       "  <thead>\n",
       "    <tr style=\"text-align: right;\">\n",
       "      <th></th>\n",
       "      <th>price_per_sqft_15</th>\n",
       "      <th>sqft_living</th>\n",
       "      <th>grade</th>\n",
       "      <th>sqft_living15</th>\n",
       "      <th>price</th>\n",
       "      <th>bathrooms</th>\n",
       "      <th>price_per_sqft</th>\n",
       "    </tr>\n",
       "  </thead>\n",
       "  <tbody>\n",
       "    <tr>\n",
       "      <th>0</th>\n",
       "      <td>0.381064</td>\n",
       "      <td>0.318314</td>\n",
       "      <td>0.428571</td>\n",
       "      <td>0.177062</td>\n",
       "      <td>0.205621</td>\n",
       "      <td>0.304348</td>\n",
       "      <td>0.400847</td>\n",
       "    </tr>\n",
       "    <tr>\n",
       "      <th>1</th>\n",
       "      <td>0.072564</td>\n",
       "      <td>0.241279</td>\n",
       "      <td>0.428571</td>\n",
       "      <td>0.247485</td>\n",
       "      <td>0.043203</td>\n",
       "      <td>0.391304</td>\n",
       "      <td>0.128358</td>\n",
       "    </tr>\n",
       "    <tr>\n",
       "      <th>2</th>\n",
       "      <td>0.083536</td>\n",
       "      <td>0.296512</td>\n",
       "      <td>0.285714</td>\n",
       "      <td>0.362173</td>\n",
       "      <td>0.082356</td>\n",
       "      <td>0.304348</td>\n",
       "      <td>0.170389</td>\n",
       "    </tr>\n",
       "    <tr>\n",
       "      <th>3</th>\n",
       "      <td>0.155386</td>\n",
       "      <td>0.388081</td>\n",
       "      <td>0.714286</td>\n",
       "      <td>0.422535</td>\n",
       "      <td>0.171053</td>\n",
       "      <td>0.434783</td>\n",
       "      <td>0.257489</td>\n",
       "    </tr>\n",
       "    <tr>\n",
       "      <th>4</th>\n",
       "      <td>0.172165</td>\n",
       "      <td>0.167151</td>\n",
       "      <td>0.428571</td>\n",
       "      <td>0.205231</td>\n",
       "      <td>0.095456</td>\n",
       "      <td>0.217391</td>\n",
       "      <td>0.393195</td>\n",
       "    </tr>\n",
       "  </tbody>\n",
       "</table>\n",
       "</div>"
      ],
      "text/plain": [
       "   price_per_sqft_15  sqft_living     grade  sqft_living15     price  \\\n",
       "0           0.381064     0.318314  0.428571       0.177062  0.205621   \n",
       "1           0.072564     0.241279  0.428571       0.247485  0.043203   \n",
       "2           0.083536     0.296512  0.285714       0.362173  0.082356   \n",
       "3           0.155386     0.388081  0.714286       0.422535  0.171053   \n",
       "4           0.172165     0.167151  0.428571       0.205231  0.095456   \n",
       "\n",
       "   bathrooms  price_per_sqft  \n",
       "0   0.304348        0.400847  \n",
       "1   0.391304        0.128358  \n",
       "2   0.304348        0.170389  \n",
       "3   0.434783        0.257489  \n",
       "4   0.217391        0.393195  "
      ]
     },
     "execution_count": 51,
     "metadata": {},
     "output_type": "execute_result"
    }
   ],
   "source": [
    "dataset_test.head()"
   ]
  },
  {
   "cell_type": "markdown",
   "metadata": {},
   "source": [
    "Applying the Linear Regression Model to our training datasets"
   ]
  },
  {
   "cell_type": "code",
   "execution_count": 69,
   "metadata": {},
   "outputs": [
    {
     "name": "stdout",
     "output_type": "stream",
     "text": [
      "the coefficeient coef is  [ 0.42825315  0.14883894 -0.01161778  0.17433164  0.04526166 -0.00941904]\n",
      "the intercept of our model coming out to be -0.0604359480764462\n"
     ]
    }
   ],
   "source": [
    "\n"
   ]
  },
  {
   "cell_type": "code",
   "execution_count": 71,
   "metadata": {},
   "outputs": [
    {
     "data": {
      "text/html": [
       "<div>\n",
       "<style scoped>\n",
       "    .dataframe tbody tr th:only-of-type {\n",
       "        vertical-align: middle;\n",
       "    }\n",
       "\n",
       "    .dataframe tbody tr th {\n",
       "        vertical-align: top;\n",
       "    }\n",
       "\n",
       "    .dataframe thead th {\n",
       "        text-align: right;\n",
       "    }\n",
       "</style>\n",
       "<table border=\"1\" class=\"dataframe\">\n",
       "  <thead>\n",
       "    <tr style=\"text-align: right;\">\n",
       "      <th></th>\n",
       "      <th>id</th>\n",
       "      <th>date</th>\n",
       "      <th>price</th>\n",
       "      <th>bedrooms</th>\n",
       "      <th>bathrooms</th>\n",
       "      <th>sqft_living</th>\n",
       "      <th>sqft_lot</th>\n",
       "      <th>floors</th>\n",
       "      <th>waterfront</th>\n",
       "      <th>view</th>\n",
       "      <th>...</th>\n",
       "      <th>sqft_basement</th>\n",
       "      <th>yr_built</th>\n",
       "      <th>yr_renovated</th>\n",
       "      <th>zipcode</th>\n",
       "      <th>lat</th>\n",
       "      <th>long</th>\n",
       "      <th>sqft_living15</th>\n",
       "      <th>sqft_lot15</th>\n",
       "      <th>price_per_sqft</th>\n",
       "      <th>price_per_sqft_15</th>\n",
       "    </tr>\n",
       "  </thead>\n",
       "  <tbody>\n",
       "    <tr>\n",
       "      <th>0</th>\n",
       "      <td>3885802136</td>\n",
       "      <td>20140723T000000</td>\n",
       "      <td>899000.0</td>\n",
       "      <td>4</td>\n",
       "      <td>2.50</td>\n",
       "      <td>2580</td>\n",
       "      <td>3943</td>\n",
       "      <td>2.0</td>\n",
       "      <td>0</td>\n",
       "      <td>0</td>\n",
       "      <td>...</td>\n",
       "      <td>0</td>\n",
       "      <td>2013</td>\n",
       "      <td>0</td>\n",
       "      <td>98033</td>\n",
       "      <td>47.6853</td>\n",
       "      <td>-122.210</td>\n",
       "      <td>1700</td>\n",
       "      <td>5772</td>\n",
       "      <td>348.449612</td>\n",
       "      <td>528.823529</td>\n",
       "    </tr>\n",
       "    <tr>\n",
       "      <th>1</th>\n",
       "      <td>7967000150</td>\n",
       "      <td>20140808T000000</td>\n",
       "      <td>353500.0</td>\n",
       "      <td>4</td>\n",
       "      <td>3.00</td>\n",
       "      <td>2050</td>\n",
       "      <td>4000</td>\n",
       "      <td>2.0</td>\n",
       "      <td>0</td>\n",
       "      <td>0</td>\n",
       "      <td>...</td>\n",
       "      <td>0</td>\n",
       "      <td>2014</td>\n",
       "      <td>0</td>\n",
       "      <td>98001</td>\n",
       "      <td>47.3523</td>\n",
       "      <td>-122.275</td>\n",
       "      <td>2050</td>\n",
       "      <td>4000</td>\n",
       "      <td>172.439024</td>\n",
       "      <td>172.439024</td>\n",
       "    </tr>\n",
       "    <tr>\n",
       "      <th>2</th>\n",
       "      <td>7853360720</td>\n",
       "      <td>20140908T000000</td>\n",
       "      <td>485000.0</td>\n",
       "      <td>3</td>\n",
       "      <td>2.50</td>\n",
       "      <td>2430</td>\n",
       "      <td>5867</td>\n",
       "      <td>2.0</td>\n",
       "      <td>0</td>\n",
       "      <td>0</td>\n",
       "      <td>...</td>\n",
       "      <td>0</td>\n",
       "      <td>2011</td>\n",
       "      <td>0</td>\n",
       "      <td>98065</td>\n",
       "      <td>47.5162</td>\n",
       "      <td>-121.872</td>\n",
       "      <td>2620</td>\n",
       "      <td>5866</td>\n",
       "      <td>199.588477</td>\n",
       "      <td>185.114504</td>\n",
       "    </tr>\n",
       "    <tr>\n",
       "      <th>3</th>\n",
       "      <td>8562790150</td>\n",
       "      <td>20140626T000000</td>\n",
       "      <td>782900.0</td>\n",
       "      <td>4</td>\n",
       "      <td>3.25</td>\n",
       "      <td>3060</td>\n",
       "      <td>3898</td>\n",
       "      <td>2.0</td>\n",
       "      <td>0</td>\n",
       "      <td>0</td>\n",
       "      <td>...</td>\n",
       "      <td>760</td>\n",
       "      <td>2014</td>\n",
       "      <td>0</td>\n",
       "      <td>98027</td>\n",
       "      <td>47.5311</td>\n",
       "      <td>-122.073</td>\n",
       "      <td>2920</td>\n",
       "      <td>3448</td>\n",
       "      <td>255.849673</td>\n",
       "      <td>268.116438</td>\n",
       "    </tr>\n",
       "    <tr>\n",
       "      <th>4</th>\n",
       "      <td>1226039124</td>\n",
       "      <td>20150428T000000</td>\n",
       "      <td>529000.0</td>\n",
       "      <td>2</td>\n",
       "      <td>2.00</td>\n",
       "      <td>1540</td>\n",
       "      <td>9714</td>\n",
       "      <td>2.0</td>\n",
       "      <td>0</td>\n",
       "      <td>0</td>\n",
       "      <td>...</td>\n",
       "      <td>0</td>\n",
       "      <td>2008</td>\n",
       "      <td>0</td>\n",
       "      <td>98177</td>\n",
       "      <td>47.7628</td>\n",
       "      <td>-122.359</td>\n",
       "      <td>1840</td>\n",
       "      <td>8179</td>\n",
       "      <td>343.506494</td>\n",
       "      <td>287.500000</td>\n",
       "    </tr>\n",
       "  </tbody>\n",
       "</table>\n",
       "<p>5 rows × 23 columns</p>\n",
       "</div>"
      ],
      "text/plain": [
       "           id             date     price  bedrooms  bathrooms  sqft_living  \\\n",
       "0  3885802136  20140723T000000  899000.0         4       2.50         2580   \n",
       "1  7967000150  20140808T000000  353500.0         4       3.00         2050   \n",
       "2  7853360720  20140908T000000  485000.0         3       2.50         2430   \n",
       "3  8562790150  20140626T000000  782900.0         4       3.25         3060   \n",
       "4  1226039124  20150428T000000  529000.0         2       2.00         1540   \n",
       "\n",
       "   sqft_lot  floors  waterfront  view        ...          sqft_basement  \\\n",
       "0      3943     2.0           0     0        ...                      0   \n",
       "1      4000     2.0           0     0        ...                      0   \n",
       "2      5867     2.0           0     0        ...                      0   \n",
       "3      3898     2.0           0     0        ...                    760   \n",
       "4      9714     2.0           0     0        ...                      0   \n",
       "\n",
       "   yr_built  yr_renovated  zipcode      lat     long  sqft_living15  \\\n",
       "0      2013             0    98033  47.6853 -122.210           1700   \n",
       "1      2014             0    98001  47.3523 -122.275           2050   \n",
       "2      2011             0    98065  47.5162 -121.872           2620   \n",
       "3      2014             0    98027  47.5311 -122.073           2920   \n",
       "4      2008             0    98177  47.7628 -122.359           1840   \n",
       "\n",
       "   sqft_lot15  price_per_sqft  price_per_sqft_15  \n",
       "0        5772      348.449612         528.823529  \n",
       "1        4000      172.439024         172.439024  \n",
       "2        5866      199.588477         185.114504  \n",
       "3        3448      255.849673         268.116438  \n",
       "4        8179      343.506494         287.500000  \n",
       "\n",
       "[5 rows x 23 columns]"
      ]
     },
     "execution_count": 71,
     "metadata": {},
     "output_type": "execute_result"
    }
   ],
   "source": [
    "#testing our model with the test datas which is present in the test.csv file\n",
    "test = pd.read_csv('test.csv',delimiter=',',encoding='utf-8')\n",
    "test['price_per_sqft'] = test['price']/test['sqft_living']\n",
    "test['price_per_sqft_15'] = test['price']/test['sqft_living15']\n",
    "test.head()"
   ]
  },
  {
   "cell_type": "code",
   "execution_count": 73,
   "metadata": {},
   "outputs": [
    {
     "data": {
      "text/html": [
       "<div>\n",
       "<style scoped>\n",
       "    .dataframe tbody tr th:only-of-type {\n",
       "        vertical-align: middle;\n",
       "    }\n",
       "\n",
       "    .dataframe tbody tr th {\n",
       "        vertical-align: top;\n",
       "    }\n",
       "\n",
       "    .dataframe thead th {\n",
       "        text-align: right;\n",
       "    }\n",
       "</style>\n",
       "<table border=\"1\" class=\"dataframe\">\n",
       "  <thead>\n",
       "    <tr style=\"text-align: right;\">\n",
       "      <th></th>\n",
       "      <th>price_per_sqft_15</th>\n",
       "      <th>sqft_living</th>\n",
       "      <th>grade</th>\n",
       "      <th>sqft_living15</th>\n",
       "      <th>price</th>\n",
       "      <th>bathrooms</th>\n",
       "      <th>price_per_sqft</th>\n",
       "    </tr>\n",
       "  </thead>\n",
       "  <tbody>\n",
       "    <tr>\n",
       "      <th>0</th>\n",
       "      <td>0.381064</td>\n",
       "      <td>0.318314</td>\n",
       "      <td>0.428571</td>\n",
       "      <td>0.177062</td>\n",
       "      <td>0.205621</td>\n",
       "      <td>0.304348</td>\n",
       "      <td>0.400847</td>\n",
       "    </tr>\n",
       "    <tr>\n",
       "      <th>1</th>\n",
       "      <td>0.072564</td>\n",
       "      <td>0.241279</td>\n",
       "      <td>0.428571</td>\n",
       "      <td>0.247485</td>\n",
       "      <td>0.043203</td>\n",
       "      <td>0.391304</td>\n",
       "      <td>0.128358</td>\n",
       "    </tr>\n",
       "    <tr>\n",
       "      <th>2</th>\n",
       "      <td>0.083536</td>\n",
       "      <td>0.296512</td>\n",
       "      <td>0.285714</td>\n",
       "      <td>0.362173</td>\n",
       "      <td>0.082356</td>\n",
       "      <td>0.304348</td>\n",
       "      <td>0.170389</td>\n",
       "    </tr>\n",
       "    <tr>\n",
       "      <th>3</th>\n",
       "      <td>0.155386</td>\n",
       "      <td>0.388081</td>\n",
       "      <td>0.714286</td>\n",
       "      <td>0.422535</td>\n",
       "      <td>0.171053</td>\n",
       "      <td>0.434783</td>\n",
       "      <td>0.257489</td>\n",
       "    </tr>\n",
       "    <tr>\n",
       "      <th>4</th>\n",
       "      <td>0.172165</td>\n",
       "      <td>0.167151</td>\n",
       "      <td>0.428571</td>\n",
       "      <td>0.205231</td>\n",
       "      <td>0.095456</td>\n",
       "      <td>0.217391</td>\n",
       "      <td>0.393195</td>\n",
       "    </tr>\n",
       "  </tbody>\n",
       "</table>\n",
       "</div>"
      ],
      "text/plain": [
       "   price_per_sqft_15  sqft_living     grade  sqft_living15     price  \\\n",
       "0           0.381064     0.318314  0.428571       0.177062  0.205621   \n",
       "1           0.072564     0.241279  0.428571       0.247485  0.043203   \n",
       "2           0.083536     0.296512  0.285714       0.362173  0.082356   \n",
       "3           0.155386     0.388081  0.714286       0.422535  0.171053   \n",
       "4           0.172165     0.167151  0.428571       0.205231  0.095456   \n",
       "\n",
       "   bathrooms  price_per_sqft  \n",
       "0   0.304348        0.400847  \n",
       "1   0.391304        0.128358  \n",
       "2   0.304348        0.170389  \n",
       "3   0.434783        0.257489  \n",
       "4   0.217391        0.393195  "
      ]
     },
     "execution_count": 73,
     "metadata": {},
     "output_type": "execute_result"
    }
   ],
   "source": [
    "#normalozing the data set\n",
    "#Scaling down the  test data set between the values  0 and  1\n",
    "test_swap1=min_max.fit_transform(test[['price_per_sqft_15','sqft_living', 'grade',\n",
    "                'sqft_living15', 'price','bathrooms','price_per_sqft']])\n",
    "\n",
    "#storing thedatas in the pandas dataframe.\n",
    "\n",
    "dataset_test = pd.DataFrame({'price_per_sqft_15':test_swap1[:,0],'sqft_living':test_swap1[:,1],'grade':test_swap1[:,2],'sqft_living15':test_swap1[:,3],'price':test_swap1[:,4],'bathrooms':test_swap1[:,5],'price_per_sqft':test_swap1[:,6]})\n",
    "#dataset = pd.DataFrame({'Column1':data[:,0],'Column2':data[:,1]})\n",
    "dataset_test.head()\n",
    "\n"
   ]
  },
  {
   "cell_type": "code",
   "execution_count": 83,
   "metadata": {},
   "outputs": [],
   "source": [
    "price_test = dataset_test['price'].values\n",
    "price_per_sqft_15_test = dataset_test['price_per_sqft_15'].values\n",
    "sqft_living_test= dataset_test['sqft_living'].values\n",
    "grade_test = dataset_test['grade'].values\n",
    "sqft_living15_test = dataset_test['sqft_living15'].values\n",
    "price_per_sqft_test = dataset_test['price_per_sqft'].values\n",
    "bathrooms_test =dataset_test['bathrooms'].values\n",
    "\n",
    "X_Test  =  np.array([price_per_sqft_15_test,sqft_living_test,grade_test,sqft_living15_test,price_per_sqft_test,bathrooms_test]).T\n",
    "Y = np.array(price_test)"
   ]
  },
  {
   "cell_type": "code",
   "execution_count": 75,
   "metadata": {},
   "outputs": [
    {
     "name": "stdout",
     "output_type": "stream",
     "text": [
      "the coefficeient coef is  [ 0.42825315  0.14883894 -0.01161778  0.17433164  0.04526166 -0.00941904]\n",
      "the intercept of our model coming out to be -0.0604359480764462\n"
     ]
    }
   ],
   "source": [
    "from sklearn.linear_model import LinearRegression\n",
    "from sklearn.metrics import mean_squared_error\n",
    "X  =  np.array([price_per_sqft_15,sqft_living,grade,sqft_living15,price_per_sqft,bathrooms]).T\n",
    "Y = np.array(price)\n",
    "reg = LinearRegression()\n",
    "reg = reg.fit(X,Y)\n",
    "coef = reg.coef_\n",
    "intercept = reg.intercept_\n",
    "print(\"the coefficeient coef is \" ,coef)\n",
    "print(\"the intercept of our model coming out to be\" ,intercept)"
   ]
  },
  {
   "cell_type": "code",
   "execution_count": 76,
   "metadata": {},
   "outputs": [
    {
     "name": "stdout",
     "output_type": "stream",
     "text": [
      "0.04788927329632429\n",
      "0.9192921215252319\n"
     ]
    }
   ],
   "source": [
    "Y_Test = np.array(price_test)\n",
    "Y_pred = reg.predict(X_Test)\n",
    "rmse = np.sqrt(mean_squared_error(Y_Test,Y_pred))\n",
    "r2 =reg.score(X,Y)\n",
    "reg = reg.fit(X,Y)\n",
    "print(rmse)\n",
    "print(r2)"
   ]
  },
  {
   "cell_type": "markdown",
   "metadata": {},
   "source": [
    "here accuracy comes out to be 92% ,this is really great,thus cleaning the data has very much served out purpose."
   ]
  },
  {
   "cell_type": "code",
   "execution_count": 111,
   "metadata": {},
   "outputs": [
    {
     "name": "stdout",
     "output_type": "stream",
     "text": [
      "final value ->  10\n",
      "final value ->  10\n",
      "final value ->  10\n",
      "final value ->  10\n",
      "final value ->  10\n",
      "final value ->  8.366632672127253\n",
      "final value ->  10\n",
      "final value ->  9.430745839475488\n",
      "final value ->  10\n",
      "final value ->  10\n",
      "final value ->  10\n",
      "final value ->  10\n",
      "final value ->  10\n",
      "final value ->  10\n",
      "final value ->  10\n",
      "final value ->  10\n",
      "final value ->  9.190135586581114\n",
      "final value ->  7.466140999996803\n",
      "final value ->  10\n",
      "final value ->  10\n"
     ]
    }
   ],
   "source": [
    "for i in range(0,20):\n",
    "    #print(\"Y_test -> \",Y_Test[i] , \"Y_predicted -> \",Y_pred[i])\n",
    "    d = (Y_pred[i]-Y_Test[i])/Y_Test[i]\n",
    "    d_adjusted= max(d-0.1,0)\n",
    "    final_value = max(1-d_adjusted,0)*10\n",
    "    print(\"final value -> \",final_value)\n"
   ]
  },
  {
   "cell_type": "code",
   "execution_count": 112,
   "metadata": {},
   "outputs": [
    {
     "name": "stdout",
     "output_type": "stream",
     "text": [
      "number of values equal to 10 is ->  397  out of total length ->  615\n",
      "number of values greater than 9  is ->  486  out of total length ->  615\n"
     ]
    },
    {
     "name": "stderr",
     "output_type": "stream",
     "text": [
      "C:\\Users\\user 1\\Anaconda3\\envs\\env_dlib\\lib\\site-packages\\ipykernel_launcher.py:4: RuntimeWarning: divide by zero encountered in double_scalars\n",
      "  after removing the cwd from sys.path.\n"
     ]
    }
   ],
   "source": [
    "ten=0\n",
    "nine=0\n",
    "for i in range(0,len(test)):\n",
    "    d = (Y_pred[i]-Y_Test[i])/Y_Test[i]\n",
    "    d_adjusted= max(d-0.1,0)\n",
    "    final_value = max(1-d_adjusted,0)*10\n",
    "    if(final_value>=10.0):\n",
    "        ten=ten+1\n",
    "    if(final_value>=9):\n",
    "         nine = nine+1\n",
    "        \n",
    "print(\"number of values equal to 10 is -> \",ten , \" out of total length -> \" ,len(test))\n",
    "print(\"number of values greater than 9  is -> \",nine , \" out of total length -> \" ,len(test))\n",
    "\n"
   ]
  },
  {
   "cell_type": "markdown",
   "metadata": {},
   "source": [
    "#This is a model in which we adjust the value of alpha to get the right value of weights and then predicting the value of RMSE\n",
    "#but this value coming is  not coming as accurately as being predicted by the sklearn.linear_model"
   ]
  },
  {
   "cell_type": "code",
   "execution_count": 68,
   "metadata": {},
   "outputs": [
    {
     "name": "stdout",
     "output_type": "stream",
     "text": [
      "0.0030026445063090126\n",
      "[6.75162142e-11 1.09180893e-11 1.16653937e-11 4.08348565e-11\n",
      " 2.20696994e-11 2.10498718e-11 2.04081270e-11]\n",
      "0.0030026444992639284\n",
      "0.07749379974248166\n",
      "-1.59637281505525\n"
     ]
    }
   ],
   "source": [
    "\n",
    "#initializing the value of x0 i.e. the initializer to the number of examples.\n",
    "x0 = np.ones(len(train_new))\n",
    "#X = np.array([x0,bedrooms_test,bathrooms_test,size_test]).T\n",
    "X= np.array([x0,price_per_sqft_15,sqft_living,grade,sqft_living15,price_per_sqft,bathrooms]).T\n",
    "B= np.array([0,0,0,0,0,0,0])\n",
    "Y =np.array(price)\n",
    "def cost_function(X,Y,B):\n",
    "    m = len(Y)\n",
    "    J = np.sum((X.dot(B) -Y) ** 2)/(2*m)\n",
    "    return J\n",
    "\n",
    "#####\n",
    "import math\n",
    "initial_cost = cost_function(X,Y,B)\n",
    "print(initial_cost)\n",
    "def gradient_descent(X,Y,B,alpha,iterations):\n",
    "    cost_history =[0] *iterations\n",
    "    m = len(Y)\n",
    "    \n",
    "    for iteration in range(iterations):\n",
    "        h = X.dot(B)\n",
    "        loss= h-Y\n",
    "        \n",
    "        gradient = X.T.dot(loss)/m\n",
    "        B=B- alpha *gradient\n",
    "        alpha=alpha/(10)\n",
    "        cost = cost_function(X,Y,B)\n",
    "        #if iteration/1000==0:\n",
    "        #print(\"iteration = \",iteration)\n",
    "        cost_history[iteration] = cost\n",
    "    return B,cost_history\n",
    "########\n",
    "###########\n",
    "alpha=0.000000001\n",
    "newB,cost_history = gradient_descent(X,Y,B,alpha,1000)\n",
    "print(newB)\n",
    "print(cost_history[-1])\n",
    "\n",
    "# Model Evaluation - RMSE\n",
    "def rmse(Y, Y_pred):\n",
    "    rmse = np.sqrt(sum((Y - Y_pred) ** 2) / len(Y))\n",
    "    return rmse\n",
    "\n",
    "# Model Evaluation - R2 Score\n",
    "def r2_score(Y, Y_pred):\n",
    "    mean_y = np.mean(Y)\n",
    "    ss_tot = sum((Y - mean_y) ** 2)\n",
    "    ss_res = sum((Y - Y_pred) ** 2)\n",
    "    r2 = 1 - (ss_res / ss_tot)\n",
    "    return r2\n",
    "\n",
    "#########\n",
    "\n",
    "\n",
    "Y_pred = X.dot(newB)\n",
    "print(rmse(Y, Y_pred))\n",
    "print(r2_score(Y, Y_pred))\n",
    "\n",
    "#############\n"
   ]
  },
  {
   "cell_type": "markdown",
   "metadata": {},
   "source": [
    "We tried using the Linear regression Model and our data clearly showed 91% accuracy,lets try to use the RandomForestRegression and lets see how accurate does it performs"
   ]
  },
  {
   "cell_type": "code",
   "execution_count": 80,
   "metadata": {},
   "outputs": [
    {
     "data": {
      "text/plain": [
       "RandomForestRegressor(bootstrap=True, criterion='mse', max_depth=None,\n",
       "           max_features='auto', max_leaf_nodes=None,\n",
       "           min_impurity_decrease=0.0, min_impurity_split=None,\n",
       "           min_samples_leaf=1, min_samples_split=2,\n",
       "           min_weight_fraction_leaf=0.0, n_estimators=10, n_jobs=1,\n",
       "           oob_score=False, random_state=42, verbose=0, warm_start=False)"
      ]
     },
     "execution_count": 80,
     "metadata": {},
     "output_type": "execute_result"
    }
   ],
   "source": [
    "from sklearn.ensemble import RandomForestRegressor\n",
    "forest_reg = RandomForestRegressor(random_state=42)\n",
    "forest_reg.fit(X, Y)"
   ]
  },
  {
   "cell_type": "code",
   "execution_count": 109,
   "metadata": {},
   "outputs": [
    {
     "name": "stdout",
     "output_type": "stream",
     "text": [
      "[0.4927674  0.03406982 0.19251616 0.23744996 0.04257601 0.00062064]\n",
      "0.33637773039552005\n"
     ]
    }
   ],
   "source": [
    "#used to calculate the weights\n",
    "print(forest_reg.feature_importances_)\n",
    "s=0.381064*0.4927674 + 0.318314*0.03406982 + 0.428571*0.19251616 +0.177062*0.23744996 +0.304348*0.04257601 +0.400847*0.00062064\n",
    "print(s)\n",
    "\n"
   ]
  },
  {
   "cell_type": "code",
   "execution_count": 84,
   "metadata": {},
   "outputs": [
    {
     "name": "stdout",
     "output_type": "stream",
     "text": [
      "Random Forest R squared\": 0.8002\n"
     ]
    }
   ],
   "source": [
    "#test = pd.read_csv('test.csv',delimiter=',',encoding='utf-8')\n",
    "\n",
    "print('Random Forest R squared\": %.4f' % forest_reg.score(X_Test, Y_Test))"
   ]
  },
  {
   "cell_type": "markdown",
   "metadata": {},
   "source": [
    "Here we clearly find that the accuracy predicted by the Random forest Algorithm is 99%,thats huge almost all correct over 20,000+ datasets."
   ]
  },
  {
   "cell_type": "code",
   "execution_count": 85,
   "metadata": {},
   "outputs": [
    {
     "name": "stdout",
     "output_type": "stream",
     "text": [
      "Random Forest RMSE: 0.0500\n"
     ]
    }
   ],
   "source": [
    "y_pred = forest_reg.predict(X_Test)\n",
    "forest_mse = mean_squared_error(y_pred, Y_Test)\n",
    "forest_rmse = np.sqrt(forest_mse)\n",
    "print('Random Forest RMSE: %.4f' % forest_rmse)"
   ]
  },
  {
   "cell_type": "code",
   "execution_count": 113,
   "metadata": {},
   "outputs": [
    {
     "name": "stdout",
     "output_type": "stream",
     "text": [
      "Y_test ->  0.20562138986482462 Y_predicted ->  0.19129841324953056\n",
      "final value ->  10\n",
      "Y_test ->  0.043202524861549456 Y_predicted ->  0.046840865316971306\n",
      "final value ->  10\n",
      "Y_test ->  0.0823557434645388 Y_predicted ->  0.08413548331434353\n",
      "final value ->  10\n",
      "Y_test ->  0.17105341511344013 Y_predicted ->  0.13679222405200503\n",
      "final value ->  10\n",
      "Y_test ->  0.09545644018340976 Y_predicted ->  0.0847212263867359\n",
      "final value ->  10\n",
      "Y_test ->  0.0911987137497767 Y_predicted ->  0.1152146850630448\n",
      "final value ->  10\n",
      "Y_test ->  0.05982135413565177 Y_predicted ->  0.05770727143365381\n",
      "final value ->  10\n",
      "Y_test ->  0.05365271243970702 Y_predicted ->  0.06207218666165057\n",
      "final value ->  10\n",
      "Y_test ->  0.06151372595724409 Y_predicted ->  0.06600295438501325\n",
      "final value ->  10\n",
      "Y_test ->  0.09322336687905675 Y_predicted ->  0.09015503179679862\n",
      "final value ->  10\n",
      "Y_test ->  0.11064133865301018 Y_predicted ->  0.10099936605574208\n",
      "final value ->  10\n",
      "Y_test ->  0.20072827964032633 Y_predicted ->  0.1643377999607654\n",
      "final value ->  10\n",
      "Y_test ->  0.09426546775442149 Y_predicted ->  0.08614457541492546\n",
      "final value ->  10\n",
      "Y_test ->  0.09128803668195082 Y_predicted ->  0.09686106374580097\n",
      "final value ->  10\n",
      "Y_test ->  0.11344310129220508 Y_predicted ->  0.1040177987608003\n",
      "final value ->  10\n",
      "Y_test ->  0.1634907401893646 Y_predicted ->  0.1417486568892487\n",
      "final value ->  10\n",
      "Y_test ->  0.02250937890787829 Y_predicted ->  0.026583271293231348\n",
      "final value ->  10\n",
      "Y_test ->  0.03873637825284345 Y_predicted ->  0.052425268144477344\n",
      "final value ->  10\n",
      "Y_test ->  0.05094384564997321 Y_predicted ->  0.053511681139008976\n",
      "final value ->  10\n",
      "Y_test ->  0.10170904543559817 Y_predicted ->  0.09883032374828776\n",
      "final value ->  10\n"
     ]
    }
   ],
   "source": [
    "for i in range(0,20):\n",
    "    print(\"Y_test -> \",Y_Test[i] , \"Y_predicted -> \",Y_pred[i])\n",
    "    d = (y_pred[i]-Y_Test[i])/Y_Test[i]\n",
    "    d_adjusted= max(d-0.1,0)\n",
    "    final_value = max(1-d_adjusted,0)*10\n",
    "    print(\"final value -> \",final_value)"
   ]
  },
  {
   "cell_type": "code",
   "execution_count": 87,
   "metadata": {},
   "outputs": [
    {
     "name": "stdout",
     "output_type": "stream",
     "text": [
      "number of values equal to 10 is ->  594  out of total length ->  615\n"
     ]
    },
    {
     "name": "stderr",
     "output_type": "stream",
     "text": [
      "C:\\Users\\user 1\\Anaconda3\\envs\\env_dlib\\lib\\site-packages\\ipykernel_launcher.py:3: RuntimeWarning: divide by zero encountered in double_scalars\n",
      "  This is separate from the ipykernel package so we can avoid doing imports until\n"
     ]
    }
   ],
   "source": [
    "count=0\n",
    "for i in range(0,len(test)):\n",
    "    d = (y_pred[i]-Y_Test[i])/Y_Test[i]\n",
    "    d_adjusted= max(d-0.1,0)\n",
    "    final_value = max(1-d_adjusted,0)*10\n",
    "    if(final_value>=10.0):\n",
    "        count=count+1\n",
    "print(\"number of values equal to 10 is -> \",count , \" out of total length -> \" ,len(test))\n"
   ]
  },
  {
   "cell_type": "code",
   "execution_count": 122,
   "metadata": {},
   "outputs": [],
   "source": []
  },
  {
   "cell_type": "code",
   "execution_count": 88,
   "metadata": {},
   "outputs": [
    {
     "name": "stdout",
     "output_type": "stream",
     "text": [
      "Random Forest R squared\": 0.8002\n"
     ]
    }
   ],
   "source": []
  },
  {
   "cell_type": "code",
   "execution_count": 125,
   "metadata": {},
   "outputs": [
    {
     "name": "stdout",
     "output_type": "stream",
     "text": [
      "Random Forest RMSE: 15651.4169\n"
     ]
    }
   ],
   "source": []
  },
  {
   "cell_type": "code",
   "execution_count": 131,
   "metadata": {},
   "outputs": [
    {
     "name": "stdout",
     "output_type": "stream",
     "text": [
      "353040.0\n",
      "353500.0\n"
     ]
    }
   ],
   "source": [
    "print(y_pred[1])\n",
    "print(Y_Test[1])"
   ]
  },
  {
   "cell_type": "raw",
   "metadata": {},
   "source": []
  },
  {
   "cell_type": "raw",
   "metadata": {},
   "source": []
  }
 ],
 "metadata": {
  "kernelspec": {
   "display_name": "Python 3",
   "language": "python",
   "name": "python3"
  },
  "language_info": {
   "codemirror_mode": {
    "name": "ipython",
    "version": 3
   },
   "file_extension": ".py",
   "mimetype": "text/x-python",
   "name": "python",
   "nbconvert_exporter": "python",
   "pygments_lexer": "ipython3",
   "version": "3.6.5"
  }
 },
 "nbformat": 4,
 "nbformat_minor": 2
}
