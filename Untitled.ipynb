{
 "cells": [
  {
   "cell_type": "code",
   "execution_count": 1,
   "metadata": {},
   "outputs": [],
   "source": [
    "import numpy as np\n",
    "import pandas as pd"
   ]
  },
  {
   "cell_type": "code",
   "execution_count": 2,
   "metadata": {},
   "outputs": [],
   "source": [
    "train = pd.read_csv('train.csv',delimiter=',',encoding='utf-8')"
   ]
  },
  {
   "cell_type": "code",
   "execution_count": 3,
   "metadata": {},
   "outputs": [
    {
     "data": {
      "text/html": [
       "<div>\n",
       "<style scoped>\n",
       "    .dataframe tbody tr th:only-of-type {\n",
       "        vertical-align: middle;\n",
       "    }\n",
       "\n",
       "    .dataframe tbody tr th {\n",
       "        vertical-align: top;\n",
       "    }\n",
       "\n",
       "    .dataframe thead th {\n",
       "        text-align: right;\n",
       "    }\n",
       "</style>\n",
       "<table border=\"1\" class=\"dataframe\">\n",
       "  <thead>\n",
       "    <tr style=\"text-align: right;\">\n",
       "      <th></th>\n",
       "      <th>id</th>\n",
       "      <th>date</th>\n",
       "      <th>price</th>\n",
       "      <th>bedrooms</th>\n",
       "      <th>bathrooms</th>\n",
       "      <th>sqft_living</th>\n",
       "      <th>sqft_lot</th>\n",
       "      <th>floors</th>\n",
       "      <th>waterfront</th>\n",
       "      <th>view</th>\n",
       "      <th>...</th>\n",
       "      <th>grade</th>\n",
       "      <th>sqft_above</th>\n",
       "      <th>sqft_basement</th>\n",
       "      <th>yr_built</th>\n",
       "      <th>yr_renovated</th>\n",
       "      <th>zipcode</th>\n",
       "      <th>lat</th>\n",
       "      <th>long</th>\n",
       "      <th>sqft_living15</th>\n",
       "      <th>sqft_lot15</th>\n",
       "    </tr>\n",
       "  </thead>\n",
       "  <tbody>\n",
       "    <tr>\n",
       "      <th>0</th>\n",
       "      <td>7129300520</td>\n",
       "      <td>20141013T000000</td>\n",
       "      <td>221900.0</td>\n",
       "      <td>3</td>\n",
       "      <td>1.00</td>\n",
       "      <td>1180</td>\n",
       "      <td>5650</td>\n",
       "      <td>1.0</td>\n",
       "      <td>0</td>\n",
       "      <td>0</td>\n",
       "      <td>...</td>\n",
       "      <td>7</td>\n",
       "      <td>1180</td>\n",
       "      <td>0</td>\n",
       "      <td>1955</td>\n",
       "      <td>0</td>\n",
       "      <td>98178</td>\n",
       "      <td>47.5112</td>\n",
       "      <td>-122.257</td>\n",
       "      <td>1340</td>\n",
       "      <td>5650</td>\n",
       "    </tr>\n",
       "    <tr>\n",
       "      <th>1</th>\n",
       "      <td>6414100192</td>\n",
       "      <td>20141209T000000</td>\n",
       "      <td>538000.0</td>\n",
       "      <td>3</td>\n",
       "      <td>2.25</td>\n",
       "      <td>2570</td>\n",
       "      <td>7242</td>\n",
       "      <td>2.0</td>\n",
       "      <td>0</td>\n",
       "      <td>0</td>\n",
       "      <td>...</td>\n",
       "      <td>7</td>\n",
       "      <td>2170</td>\n",
       "      <td>400</td>\n",
       "      <td>1951</td>\n",
       "      <td>1991</td>\n",
       "      <td>98125</td>\n",
       "      <td>47.7210</td>\n",
       "      <td>-122.319</td>\n",
       "      <td>1690</td>\n",
       "      <td>7639</td>\n",
       "    </tr>\n",
       "    <tr>\n",
       "      <th>2</th>\n",
       "      <td>5631500400</td>\n",
       "      <td>20150225T000000</td>\n",
       "      <td>180000.0</td>\n",
       "      <td>2</td>\n",
       "      <td>1.00</td>\n",
       "      <td>770</td>\n",
       "      <td>10000</td>\n",
       "      <td>1.0</td>\n",
       "      <td>0</td>\n",
       "      <td>0</td>\n",
       "      <td>...</td>\n",
       "      <td>6</td>\n",
       "      <td>770</td>\n",
       "      <td>0</td>\n",
       "      <td>1933</td>\n",
       "      <td>0</td>\n",
       "      <td>98028</td>\n",
       "      <td>47.7379</td>\n",
       "      <td>-122.233</td>\n",
       "      <td>2720</td>\n",
       "      <td>8062</td>\n",
       "    </tr>\n",
       "    <tr>\n",
       "      <th>3</th>\n",
       "      <td>2487200875</td>\n",
       "      <td>20141209T000000</td>\n",
       "      <td>604000.0</td>\n",
       "      <td>4</td>\n",
       "      <td>3.00</td>\n",
       "      <td>1960</td>\n",
       "      <td>5000</td>\n",
       "      <td>1.0</td>\n",
       "      <td>0</td>\n",
       "      <td>0</td>\n",
       "      <td>...</td>\n",
       "      <td>7</td>\n",
       "      <td>1050</td>\n",
       "      <td>910</td>\n",
       "      <td>1965</td>\n",
       "      <td>0</td>\n",
       "      <td>98136</td>\n",
       "      <td>47.5208</td>\n",
       "      <td>-122.393</td>\n",
       "      <td>1360</td>\n",
       "      <td>5000</td>\n",
       "    </tr>\n",
       "    <tr>\n",
       "      <th>4</th>\n",
       "      <td>1954400510</td>\n",
       "      <td>20150218T000000</td>\n",
       "      <td>510000.0</td>\n",
       "      <td>3</td>\n",
       "      <td>2.00</td>\n",
       "      <td>1680</td>\n",
       "      <td>8080</td>\n",
       "      <td>1.0</td>\n",
       "      <td>0</td>\n",
       "      <td>0</td>\n",
       "      <td>...</td>\n",
       "      <td>8</td>\n",
       "      <td>1680</td>\n",
       "      <td>0</td>\n",
       "      <td>1987</td>\n",
       "      <td>0</td>\n",
       "      <td>98074</td>\n",
       "      <td>47.6168</td>\n",
       "      <td>-122.045</td>\n",
       "      <td>1800</td>\n",
       "      <td>7503</td>\n",
       "    </tr>\n",
       "  </tbody>\n",
       "</table>\n",
       "<p>5 rows × 21 columns</p>\n",
       "</div>"
      ],
      "text/plain": [
       "           id             date     price  bedrooms  bathrooms  sqft_living  \\\n",
       "0  7129300520  20141013T000000  221900.0         3       1.00         1180   \n",
       "1  6414100192  20141209T000000  538000.0         3       2.25         2570   \n",
       "2  5631500400  20150225T000000  180000.0         2       1.00          770   \n",
       "3  2487200875  20141209T000000  604000.0         4       3.00         1960   \n",
       "4  1954400510  20150218T000000  510000.0         3       2.00         1680   \n",
       "\n",
       "   sqft_lot  floors  waterfront  view     ...      grade  sqft_above  \\\n",
       "0      5650     1.0           0     0     ...          7        1180   \n",
       "1      7242     2.0           0     0     ...          7        2170   \n",
       "2     10000     1.0           0     0     ...          6         770   \n",
       "3      5000     1.0           0     0     ...          7        1050   \n",
       "4      8080     1.0           0     0     ...          8        1680   \n",
       "\n",
       "   sqft_basement  yr_built  yr_renovated  zipcode      lat     long  \\\n",
       "0              0      1955             0    98178  47.5112 -122.257   \n",
       "1            400      1951          1991    98125  47.7210 -122.319   \n",
       "2              0      1933             0    98028  47.7379 -122.233   \n",
       "3            910      1965             0    98136  47.5208 -122.393   \n",
       "4              0      1987             0    98074  47.6168 -122.045   \n",
       "\n",
       "   sqft_living15  sqft_lot15  \n",
       "0           1340        5650  \n",
       "1           1690        7639  \n",
       "2           2720        8062  \n",
       "3           1360        5000  \n",
       "4           1800        7503  \n",
       "\n",
       "[5 rows x 21 columns]"
      ]
     },
     "execution_count": 3,
     "metadata": {},
     "output_type": "execute_result"
    }
   ],
   "source": [
    "train.head()"
   ]
  },
  {
   "cell_type": "code",
   "execution_count": 23,
   "metadata": {},
   "outputs": [
    {
     "data": {
      "image/png": "[encoded data removed]",
      "text/plain": [
       "<Figure size 432x288 with 1 Axes>"
      ]
     },
     "metadata": {},
     "output_type": "display_data"
    }
   ],
   "source": [
    "import matplotlib.pyplot as plt\n",
    "train.plot(kind =\"scatter\",x =\"sqft_lot\",y = \"price\",alpha =1)\n",
    "plt.savefig('scatter.png')"
   ]
  },
  {
   "cell_type": "code",
   "execution_count": 25,
   "metadata": {},
   "outputs": [
    {
     "data": {
      "text/plain": [
       "price            1.000000\n",
       "sqft_living      0.701825\n",
       "grade            0.666636\n",
       "sqft_above       0.604754\n",
       "sqft_living15    0.588186\n",
       "bathrooms        0.524705\n",
       "view             0.399894\n",
       "sqft_basement    0.324712\n",
       "lat              0.308328\n",
       "bedrooms         0.306140\n",
       "waterfront       0.265634\n",
       "floors           0.264295\n",
       "yr_renovated     0.129521\n",
       "sqft_lot         0.088578\n",
       "sqft_lot15       0.080141\n",
       "yr_built         0.048807\n",
       "condition        0.040392\n",
       "long             0.017731\n",
       "id              -0.017402\n",
       "zipcode         -0.049309\n",
       "Name: price, dtype: float64"
      ]
     },
     "execution_count": 25,
     "metadata": {},
     "output_type": "execute_result"
    }
   ],
   "source": [
    "corr_matrix = train.corr()\n",
    "corr_matrix['price'].sort_values(ascending =False)"
   ]
  },
  {
   "cell_type": "markdown",
   "metadata": {},
   "source": [
    "# we can clearly see that there is very less strength related to to the price of the house with the features starting from the waterfronts to the zipcode so itis just better t remove them for now"
   ]
  },
  {
   "cell_type": "code",
   "execution_count": 28,
   "metadata": {},
   "outputs": [
    {
     "data": {
      "text/plain": [
       "price              1.000000\n",
       "price_per_sqft1    0.776355\n",
       "sqft_living        0.701825\n",
       "grade              0.666636\n",
       "sqft_above         0.604754\n",
       "sqft_living15      0.588186\n",
       "price_per_sqft     0.556877\n",
       "bathrooms          0.524705\n",
       "view               0.399894\n",
       "sqft_basement      0.324712\n",
       "lat                0.308328\n",
       "bedrooms           0.306140\n",
       "waterfront         0.265634\n",
       "floors             0.264295\n",
       "yr_renovated       0.129521\n",
       "sqft_lot           0.088578\n",
       "sqft_lot15         0.080141\n",
       "yr_built           0.048807\n",
       "condition          0.040392\n",
       "long               0.017731\n",
       "id                -0.017402\n",
       "zipcode           -0.049309\n",
       "Name: price, dtype: float64"
      ]
     },
     "execution_count": 28,
     "metadata": {},
     "output_type": "execute_result"
    }
   ],
   "source": [
    "train['price_per_sqft1'] = train['price']/train['sqft_living15']\n",
    "corr_matrix = train.corr()\n",
    "corr_matrix[\"price\"].sort_values(ascending=False)"
   ]
  },
  {
   "cell_type": "code",
   "execution_count": 71,
   "metadata": {},
   "outputs": [],
   "source": [
    "train_new = train[['id','price','bedrooms','bathrooms','sqft_living']]"
   ]
  },
  {
   "cell_type": "code",
   "execution_count": 72,
   "metadata": {},
   "outputs": [],
   "source": [
    "train_new.head()\n",
    "train_swap = train_new[['id','bedrooms','bathrooms','sqft_living','price']]"
   ]
  },
  {
   "cell_type": "code",
   "execution_count": 73,
   "metadata": {},
   "outputs": [
    {
     "data": {
      "text/html": [
       "<div>\n",
       "<style scoped>\n",
       "    .dataframe tbody tr th:only-of-type {\n",
       "        vertical-align: middle;\n",
       "    }\n",
       "\n",
       "    .dataframe tbody tr th {\n",
       "        vertical-align: top;\n",
       "    }\n",
       "\n",
       "    .dataframe thead th {\n",
       "        text-align: right;\n",
       "    }\n",
       "</style>\n",
       "<table border=\"1\" class=\"dataframe\">\n",
       "  <thead>\n",
       "    <tr style=\"text-align: right;\">\n",
       "      <th></th>\n",
       "      <th>id</th>\n",
       "      <th>bedrooms</th>\n",
       "      <th>bathrooms</th>\n",
       "      <th>sqft_living</th>\n",
       "      <th>price</th>\n",
       "    </tr>\n",
       "  </thead>\n",
       "  <tbody>\n",
       "    <tr>\n",
       "      <th>0</th>\n",
       "      <td>7129300520</td>\n",
       "      <td>3</td>\n",
       "      <td>1.00</td>\n",
       "      <td>1180</td>\n",
       "      <td>221900.0</td>\n",
       "    </tr>\n",
       "    <tr>\n",
       "      <th>1</th>\n",
       "      <td>6414100192</td>\n",
       "      <td>3</td>\n",
       "      <td>2.25</td>\n",
       "      <td>2570</td>\n",
       "      <td>538000.0</td>\n",
       "    </tr>\n",
       "    <tr>\n",
       "      <th>2</th>\n",
       "      <td>5631500400</td>\n",
       "      <td>2</td>\n",
       "      <td>1.00</td>\n",
       "      <td>770</td>\n",
       "      <td>180000.0</td>\n",
       "    </tr>\n",
       "    <tr>\n",
       "      <th>3</th>\n",
       "      <td>2487200875</td>\n",
       "      <td>4</td>\n",
       "      <td>3.00</td>\n",
       "      <td>1960</td>\n",
       "      <td>604000.0</td>\n",
       "    </tr>\n",
       "    <tr>\n",
       "      <th>4</th>\n",
       "      <td>1954400510</td>\n",
       "      <td>3</td>\n",
       "      <td>2.00</td>\n",
       "      <td>1680</td>\n",
       "      <td>510000.0</td>\n",
       "    </tr>\n",
       "  </tbody>\n",
       "</table>\n",
       "</div>"
      ],
      "text/plain": [
       "           id  bedrooms  bathrooms  sqft_living     price\n",
       "0  7129300520         3       1.00         1180  221900.0\n",
       "1  6414100192         3       2.25         2570  538000.0\n",
       "2  5631500400         2       1.00          770  180000.0\n",
       "3  2487200875         4       3.00         1960  604000.0\n",
       "4  1954400510         3       2.00         1680  510000.0"
      ]
     },
     "execution_count": 73,
     "metadata": {},
     "output_type": "execute_result"
    }
   ],
   "source": [
    "train_swap.head()"
   ]
  },
  {
   "cell_type": "code",
   "execution_count": 74,
   "metadata": {},
   "outputs": [],
   "source": [
    "import matplotlib as plt"
   ]
  },
  {
   "cell_type": "code",
   "execution_count": 75,
   "metadata": {},
   "outputs": [],
   "source": [
    "train_x = train['sqft_living'].values\n",
    "train_y =train['price'].values"
   ]
  },
  {
   "cell_type": "code",
   "execution_count": 24,
   "metadata": {},
   "outputs": [
    {
     "name": "stdout",
     "output_type": "stream",
     "text": [
      "281.6250332818171 -45112.40563079645\n"
     ]
    }
   ],
   "source": [
    "mean_x = np.mean(train_x)\n",
    "mean_y = np.mean(train_y)\n",
    "#calculating the values of weights \n",
    "numerator =0\n",
    "denominator =0\n",
    "for i in range(len(train)):\n",
    "               numerator+=(train_x[i] - mean_x) *(train_y[i] - mean_y)\n",
    "               denominator+=(train_x[i]-mean_x) **2\n",
    "b1 = numerator/denominator\n",
    "b0 =mean_y - (b1 *mean_x)\n",
    "\n",
    "print(b1,b0)"
   ]
  },
  {
   "cell_type": "code",
   "execution_count": 42,
   "metadata": {},
   "outputs": [
    {
     "name": "stdout",
     "output_type": "stream",
     "text": [
      "13540 290\n"
     ]
    }
   ],
   "source": [
    "max_x=  np.max(train_x)\n",
    "min_x = np.min(train_x)\n",
    "print(max_x ,min_x)"
   ]
  },
  {
   "cell_type": "code",
   "execution_count": 35,
   "metadata": {},
   "outputs": [],
   "source": []
  },
  {
   "cell_type": "code",
   "execution_count": 31,
   "metadata": {},
   "outputs": [
    {
     "name": "stdout",
     "output_type": "stream",
     "text": [
      "[21076765.09050548 21075940.75014517 21075116.40978486 ...\n",
      "  3769739.22572563  3768914.88536532  3768090.54500501]\n"
     ]
    }
   ],
   "source": [
    "print(y)"
   ]
  },
  {
   "cell_type": "code",
   "execution_count": 46,
   "metadata": {},
   "outputs": [
    {
     "data": {
      "image/png": "[encoded data removed]",
      "text/plain": [
       "<Figure size 720x720 with 1 Axes>"
      ]
     },
     "metadata": {},
     "output_type": "display_data"
    }
   ],
   "source": [
    "#plotting line\n",
    "x = np.linspace(min_x,max_x,1000)\n",
    "y =b0+b1*x\n",
    "import matplotlib.pyplot as plt\n",
    "plt.rcParams['figure.figsize'] = (10.0,10.0)\n",
    "plt.plot(x,y,color='red',label ='Regression Line')\n",
    "plt.scatter(train_x,train_y,color='blue',label ='scatter plot')\n",
    "\n",
    "plt.xlabel('square feet')\n",
    "plt.ylabel('price of the house')\n",
    "plt.legend()\n",
    "plt.show()\n"
   ]
  },
  {
   "cell_type": "code",
   "execution_count": 50,
   "metadata": {},
   "outputs": [
    {
     "name": "stdout",
     "output_type": "stream",
     "text": [
      "261226.02359948636\n"
     ]
    }
   ],
   "source": [
    "#calculating the root mean square error\n",
    "rmse =0\n",
    "for i in range(len(train)):\n",
    "    y_pred =b0+ b1*train_x[i]\n",
    "    rmse+= (train_y[i] - y_pred) **2\n",
    "rmse = np.sqrt(rmse/len(train))\n",
    "print(rmse)"
   ]
  },
  {
   "cell_type": "code",
   "execution_count": 52,
   "metadata": {},
   "outputs": [
    {
     "name": "stdout",
     "output_type": "stream",
     "text": [
      "0.49255810033500225\n"
     ]
    }
   ],
   "source": [
    "ss_t=0\n",
    "ss_r =0\n",
    "for i in range(len(train)):\n",
    "    y_pred =b0+b1*train_x[i]\n",
    "    ss_t+=(train_y[i]-mean_y)**2\n",
    "    ss_r+=(train_y[i]-y_pred)**2\n",
    "r2 =1-(ss_r/ss_t)\n",
    "print(r2)"
   ]
  },
  {
   "cell_type": "code",
   "execution_count": 76,
   "metadata": {},
   "outputs": [],
   "source": [
    "train_swap.to_csv('train_swap1.csv', sep=',', encoding='utf-8')\n"
   ]
  },
  {
   "cell_type": "code",
   "execution_count": 77,
   "metadata": {},
   "outputs": [
    {
     "data": {
      "text/html": [
       "<div>\n",
       "<style scoped>\n",
       "    .dataframe tbody tr th:only-of-type {\n",
       "        vertical-align: middle;\n",
       "    }\n",
       "\n",
       "    .dataframe tbody tr th {\n",
       "        vertical-align: top;\n",
       "    }\n",
       "\n",
       "    .dataframe thead th {\n",
       "        text-align: right;\n",
       "    }\n",
       "</style>\n",
       "<table border=\"1\" class=\"dataframe\">\n",
       "  <thead>\n",
       "    <tr style=\"text-align: right;\">\n",
       "      <th></th>\n",
       "      <th>id</th>\n",
       "      <th>bedrooms</th>\n",
       "      <th>bathrooms</th>\n",
       "      <th>sqft_living</th>\n",
       "      <th>price</th>\n",
       "    </tr>\n",
       "  </thead>\n",
       "  <tbody>\n",
       "    <tr>\n",
       "      <th>count</th>\n",
       "      <td>2.099800e+04</td>\n",
       "      <td>20998.000000</td>\n",
       "      <td>20998.000000</td>\n",
       "      <td>20998.000000</td>\n",
       "      <td>2.099800e+04</td>\n",
       "    </tr>\n",
       "    <tr>\n",
       "      <th>mean</th>\n",
       "      <td>4.577649e+09</td>\n",
       "      <td>3.368273</td>\n",
       "      <td>2.099426</td>\n",
       "      <td>2071.699448</td>\n",
       "      <td>5.383300e+05</td>\n",
       "    </tr>\n",
       "    <tr>\n",
       "      <th>std</th>\n",
       "      <td>2.874107e+09</td>\n",
       "      <td>0.930738</td>\n",
       "      <td>0.767522</td>\n",
       "      <td>913.884046</td>\n",
       "      <td>3.667192e+05</td>\n",
       "    </tr>\n",
       "    <tr>\n",
       "      <th>min</th>\n",
       "      <td>1.000102e+06</td>\n",
       "      <td>0.000000</td>\n",
       "      <td>0.000000</td>\n",
       "      <td>290.000000</td>\n",
       "      <td>7.500000e+04</td>\n",
       "    </tr>\n",
       "    <tr>\n",
       "      <th>25%</th>\n",
       "      <td>2.123049e+09</td>\n",
       "      <td>3.000000</td>\n",
       "      <td>1.500000</td>\n",
       "      <td>1420.000000</td>\n",
       "      <td>3.200000e+05</td>\n",
       "    </tr>\n",
       "    <tr>\n",
       "      <th>50%</th>\n",
       "      <td>3.904985e+09</td>\n",
       "      <td>3.000000</td>\n",
       "      <td>2.250000</td>\n",
       "      <td>1910.000000</td>\n",
       "      <td>4.500000e+05</td>\n",
       "    </tr>\n",
       "    <tr>\n",
       "      <th>75%</th>\n",
       "      <td>7.305050e+09</td>\n",
       "      <td>4.000000</td>\n",
       "      <td>2.500000</td>\n",
       "      <td>2539.500000</td>\n",
       "      <td>6.412375e+05</td>\n",
       "    </tr>\n",
       "    <tr>\n",
       "      <th>max</th>\n",
       "      <td>9.900000e+09</td>\n",
       "      <td>33.000000</td>\n",
       "      <td>8.000000</td>\n",
       "      <td>13540.000000</td>\n",
       "      <td>7.700000e+06</td>\n",
       "    </tr>\n",
       "  </tbody>\n",
       "</table>\n",
       "</div>"
      ],
      "text/plain": [
       "                 id      bedrooms     bathrooms   sqft_living         price\n",
       "count  2.099800e+04  20998.000000  20998.000000  20998.000000  2.099800e+04\n",
       "mean   4.577649e+09      3.368273      2.099426   2071.699448  5.383300e+05\n",
       "std    2.874107e+09      0.930738      0.767522    913.884046  3.667192e+05\n",
       "min    1.000102e+06      0.000000      0.000000    290.000000  7.500000e+04\n",
       "25%    2.123049e+09      3.000000      1.500000   1420.000000  3.200000e+05\n",
       "50%    3.904985e+09      3.000000      2.250000   1910.000000  4.500000e+05\n",
       "75%    7.305050e+09      4.000000      2.500000   2539.500000  6.412375e+05\n",
       "max    9.900000e+09     33.000000      8.000000  13540.000000  7.700000e+06"
      ]
     },
     "execution_count": 77,
     "metadata": {},
     "output_type": "execute_result"
    }
   ],
   "source": [
    "#preprocessing.normalize([train_swap['bedrooms'].values])\n",
    "train_swap.describe()\n"
   ]
  },
  {
   "cell_type": "code",
   "execution_count": null,
   "metadata": {},
   "outputs": [],
   "source": [
    "\"\"\"\n",
    "for i in range(0,len(train)):\n",
    "    #print(i)\n",
    "    #print(train_swap['bedrooms'][i])\n",
    "    a=((train_swap['bedrooms'][i] -2.241023)/2.241023)\n",
    "    train_swap[i]['bedrooms'] = a \n",
    "    print(train_swap['bedrooms'][i])\n",
    "    print(a)\n",
    "  \"\"\" "
   ]
  },
  {
   "cell_type": "code",
   "execution_count": 78,
   "metadata": {},
   "outputs": [],
   "source": [
    "from sklearn.preprocessing import MinMaxScaler\n",
    "min_max=MinMaxScaler()\n",
    "#Scaling down both train and test data set\n",
    "train_swap1=min_max.fit_transform(train_swap[['id','bedrooms', 'bathrooms',\n",
    "                'sqft_living', 'price']])\n"
   ]
  },
  {
   "cell_type": "code",
   "execution_count": 79,
   "metadata": {},
   "outputs": [],
   "source": [
    "dataset = pd.DataFrame({'ids':train_swap1[:,0],'bedrooms':train_swap1[:,1],'bathrooms':train_swap1[:,2],'sqft_living':train_swap1[:,3],'price':train_swap1[:,4]})\n",
    "#dataset = pd.DataFrame({'Column1':data[:,0],'Column2':data[:,1]})"
   ]
  },
  {
   "cell_type": "code",
   "execution_count": 80,
   "metadata": {},
   "outputs": [
    {
     "data": {
      "text/html": [
       "<div>\n",
       "<style scoped>\n",
       "    .dataframe tbody tr th:only-of-type {\n",
       "        vertical-align: middle;\n",
       "    }\n",
       "\n",
       "    .dataframe tbody tr th {\n",
       "        vertical-align: top;\n",
       "    }\n",
       "\n",
       "    .dataframe thead th {\n",
       "        text-align: right;\n",
       "    }\n",
       "</style>\n",
       "<table border=\"1\" class=\"dataframe\">\n",
       "  <thead>\n",
       "    <tr style=\"text-align: right;\">\n",
       "      <th></th>\n",
       "      <th>ids</th>\n",
       "      <th>bedrooms</th>\n",
       "      <th>bathrooms</th>\n",
       "      <th>sqft_living</th>\n",
       "      <th>price</th>\n",
       "    </tr>\n",
       "  </thead>\n",
       "  <tbody>\n",
       "    <tr>\n",
       "      <th>0</th>\n",
       "      <td>0.720103</td>\n",
       "      <td>0.090909</td>\n",
       "      <td>0.12500</td>\n",
       "      <td>0.067170</td>\n",
       "      <td>0.019266</td>\n",
       "    </tr>\n",
       "    <tr>\n",
       "      <th>1</th>\n",
       "      <td>0.647853</td>\n",
       "      <td>0.090909</td>\n",
       "      <td>0.28125</td>\n",
       "      <td>0.172075</td>\n",
       "      <td>0.060721</td>\n",
       "    </tr>\n",
       "    <tr>\n",
       "      <th>2</th>\n",
       "      <td>0.568795</td>\n",
       "      <td>0.060606</td>\n",
       "      <td>0.12500</td>\n",
       "      <td>0.036226</td>\n",
       "      <td>0.013770</td>\n",
       "    </tr>\n",
       "    <tr>\n",
       "      <th>3</th>\n",
       "      <td>0.251157</td>\n",
       "      <td>0.121212</td>\n",
       "      <td>0.37500</td>\n",
       "      <td>0.126038</td>\n",
       "      <td>0.069377</td>\n",
       "    </tr>\n",
       "    <tr>\n",
       "      <th>4</th>\n",
       "      <td>0.197333</td>\n",
       "      <td>0.090909</td>\n",
       "      <td>0.25000</td>\n",
       "      <td>0.104906</td>\n",
       "      <td>0.057049</td>\n",
       "    </tr>\n",
       "    <tr>\n",
       "      <th>5</th>\n",
       "      <td>0.731039</td>\n",
       "      <td>0.121212</td>\n",
       "      <td>0.56250</td>\n",
       "      <td>0.387170</td>\n",
       "      <td>0.150820</td>\n",
       "    </tr>\n",
       "    <tr>\n",
       "      <th>6</th>\n",
       "      <td>0.133387</td>\n",
       "      <td>0.090909</td>\n",
       "      <td>0.28125</td>\n",
       "      <td>0.107547</td>\n",
       "      <td>0.023934</td>\n",
       "    </tr>\n",
       "    <tr>\n",
       "      <th>7</th>\n",
       "      <td>0.202748</td>\n",
       "      <td>0.090909</td>\n",
       "      <td>0.18750</td>\n",
       "      <td>0.058113</td>\n",
       "      <td>0.028439</td>\n",
       "    </tr>\n",
       "    <tr>\n",
       "      <th>8</th>\n",
       "      <td>0.243823</td>\n",
       "      <td>0.090909</td>\n",
       "      <td>0.12500</td>\n",
       "      <td>0.112453</td>\n",
       "      <td>0.020262</td>\n",
       "    </tr>\n",
       "    <tr>\n",
       "      <th>9</th>\n",
       "      <td>0.383120</td>\n",
       "      <td>0.090909</td>\n",
       "      <td>0.31250</td>\n",
       "      <td>0.120755</td>\n",
       "      <td>0.032525</td>\n",
       "    </tr>\n",
       "  </tbody>\n",
       "</table>\n",
       "</div>"
      ],
      "text/plain": [
       "        ids  bedrooms  bathrooms  sqft_living     price\n",
       "0  0.720103  0.090909    0.12500     0.067170  0.019266\n",
       "1  0.647853  0.090909    0.28125     0.172075  0.060721\n",
       "2  0.568795  0.060606    0.12500     0.036226  0.013770\n",
       "3  0.251157  0.121212    0.37500     0.126038  0.069377\n",
       "4  0.197333  0.090909    0.25000     0.104906  0.057049\n",
       "5  0.731039  0.121212    0.56250     0.387170  0.150820\n",
       "6  0.133387  0.090909    0.28125     0.107547  0.023934\n",
       "7  0.202748  0.090909    0.18750     0.058113  0.028439\n",
       "8  0.243823  0.090909    0.12500     0.112453  0.020262\n",
       "9  0.383120  0.090909    0.31250     0.120755  0.032525"
      ]
     },
     "execution_count": 80,
     "metadata": {},
     "output_type": "execute_result"
    }
   ],
   "source": [
    "dataset.head(10)"
   ]
  },
  {
   "cell_type": "code",
   "execution_count": 114,
   "metadata": {},
   "outputs": [
    {
     "name": "stdout",
     "output_type": "stream",
     "text": [
      "        ids  bedrooms  bathrooms  sqft_living     price\n",
      "0  0.720103  0.090909    0.12500     0.067170  0.019266\n",
      "1  0.647853  0.090909    0.28125     0.172075  0.060721\n",
      "2  0.568795  0.060606    0.12500     0.036226  0.013770\n",
      "3  0.251157  0.121212    0.37500     0.126038  0.069377\n",
      "4  0.197333  0.090909    0.25000     0.104906  0.057049\n"
     ]
    }
   ],
   "source": [
    "print(dataset.head())\n",
    "dataset.to_csv('dataset.csv',sep=',', encoding='utf-8')"
   ]
  },
  {
   "cell_type": "code",
   "execution_count": 170,
   "metadata": {},
   "outputs": [
    {
     "data": {
      "text/plain": [
       "2071.699448    19257\n",
       "0.242264          18\n",
       "0.218868          13\n",
       "0.249811          12\n",
       "0.273962          12\n",
       "0.279245          12\n",
       "0.238491          12\n",
       "0.216604          12\n",
       "0.267170          12\n",
       "0.203019          11\n",
       "0.210566          11\n",
       "0.261887          11\n",
       "0.234717          10\n",
       "0.290566          10\n",
       "0.244528          10\n",
       "0.237736          10\n",
       "0.236226          10\n",
       "0.218113          10\n",
       "0.211321          10\n",
       "0.310943           9\n",
       "0.271698           9\n",
       "0.246792           9\n",
       "0.214340           9\n",
       "0.276981           9\n",
       "0.282264           9\n",
       "0.232453           9\n",
       "0.259623           9\n",
       "0.219623           9\n",
       "0.181132           9\n",
       "0.258868           9\n",
       "               ...  \n",
       "0.513962           1\n",
       "0.124981           1\n",
       "0.075472           1\n",
       "0.108679           1\n",
       "0.388679           1\n",
       "0.089057           1\n",
       "0.382642           1\n",
       "0.411321           1\n",
       "0.168302           1\n",
       "0.150189           1\n",
       "0.341132           1\n",
       "0.705660           1\n",
       "0.263849           1\n",
       "0.184302           1\n",
       "0.530566           1\n",
       "0.163170           1\n",
       "0.097358           1\n",
       "0.433962           1\n",
       "0.504906           1\n",
       "0.120755           1\n",
       "0.724528           1\n",
       "0.361509           1\n",
       "0.256981           1\n",
       "0.338868           1\n",
       "0.357736           1\n",
       "0.387170           1\n",
       "0.538113           1\n",
       "0.371321           1\n",
       "0.328679           1\n",
       "0.523019           1\n",
       "Name: sqft_living, Length: 522, dtype: int64"
      ]
     },
     "execution_count": 170,
     "metadata": {},
     "output_type": "execute_result"
    }
   ],
   "source": [
    "#preprocessing.normalize([train_swap['bedrooms'].values])\n",
    "dataset['sqft_living'].value_counts()"
   ]
  },
  {
   "cell_type": "code",
   "execution_count": 122,
   "metadata": {},
   "outputs": [],
   "source": [
    "for i in range(0,len(dataset)):\n",
    "    \n",
    "    price1 =dataset['price'][i]\n",
    "    bathrooms1 = dataset['bathrooms'][i]\n",
    "    bedrooms1 = dataset['bedrooms'][i]\n",
    "    sqft_living1 = dataset['sqft_living'][i]\n",
    "    if price1:\n",
    "        \n",
    "       dataset['price'][i]=5.383300e+05\n",
    "       dataset['bathrooms'][i]=2.099426\n",
    "       dataset['bedrooms'][i]=3.368273\n",
    "       dataset['sqft_living'][i]=2071.699448"
   ]
  },
  {
   "cell_type": "code",
   "execution_count": 172,
   "metadata": {},
   "outputs": [],
   "source": [
    "for i in range(0,len(dataset)):\n",
    "    \n",
    "    price1 =dataset['price'][i]\n",
    "    bathrooms1 = dataset['bathrooms'][i]\n",
    "    bedrooms1 = dataset['bedrooms'][i]\n",
    "    sqft_living1 = dataset['sqft_living'][i]\n",
    "    if bathrooms1<0.406250 or bedrooms1<0.090909 or sqft_living1>0.242264 :\n",
    "        \n",
    "       dataset['price'][i]=5.383300e+05\n",
    "       dataset['bathrooms'][i]=2.099426\n",
    "       dataset['bedrooms'][i]=3.368273\n",
    "       dataset['sqft_living'][i]=2071.699448"
   ]
  },
  {
   "cell_type": "code",
   "execution_count": 174,
   "metadata": {},
   "outputs": [
    {
     "data": {
      "text/html": [
       "<div>\n",
       "<style scoped>\n",
       "    .dataframe tbody tr th:only-of-type {\n",
       "        vertical-align: middle;\n",
       "    }\n",
       "\n",
       "    .dataframe tbody tr th {\n",
       "        vertical-align: top;\n",
       "    }\n",
       "\n",
       "    .dataframe thead th {\n",
       "        text-align: right;\n",
       "    }\n",
       "</style>\n",
       "<table border=\"1\" class=\"dataframe\">\n",
       "  <thead>\n",
       "    <tr style=\"text-align: right;\">\n",
       "      <th></th>\n",
       "      <th>ids</th>\n",
       "      <th>bedrooms</th>\n",
       "      <th>bathrooms</th>\n",
       "      <th>sqft_living</th>\n",
       "      <th>price</th>\n",
       "    </tr>\n",
       "  </thead>\n",
       "  <tbody>\n",
       "    <tr>\n",
       "      <th>0</th>\n",
       "      <td>0.720103</td>\n",
       "      <td>3.368273</td>\n",
       "      <td>2.099426</td>\n",
       "      <td>2071.699448</td>\n",
       "      <td>538330.0</td>\n",
       "    </tr>\n",
       "    <tr>\n",
       "      <th>1</th>\n",
       "      <td>0.647853</td>\n",
       "      <td>3.368273</td>\n",
       "      <td>2.099426</td>\n",
       "      <td>2071.699448</td>\n",
       "      <td>538330.0</td>\n",
       "    </tr>\n",
       "    <tr>\n",
       "      <th>2</th>\n",
       "      <td>0.568795</td>\n",
       "      <td>3.368273</td>\n",
       "      <td>2.099426</td>\n",
       "      <td>2071.699448</td>\n",
       "      <td>538330.0</td>\n",
       "    </tr>\n",
       "    <tr>\n",
       "      <th>3</th>\n",
       "      <td>0.251157</td>\n",
       "      <td>3.368273</td>\n",
       "      <td>2.099426</td>\n",
       "      <td>2071.699448</td>\n",
       "      <td>538330.0</td>\n",
       "    </tr>\n",
       "    <tr>\n",
       "      <th>4</th>\n",
       "      <td>0.197333</td>\n",
       "      <td>3.368273</td>\n",
       "      <td>2.099426</td>\n",
       "      <td>2071.699448</td>\n",
       "      <td>538330.0</td>\n",
       "    </tr>\n",
       "  </tbody>\n",
       "</table>\n",
       "</div>"
      ],
      "text/plain": [
       "        ids  bedrooms  bathrooms  sqft_living     price\n",
       "0  0.720103  3.368273   2.099426  2071.699448  538330.0\n",
       "1  0.647853  3.368273   2.099426  2071.699448  538330.0\n",
       "2  0.568795  3.368273   2.099426  2071.699448  538330.0\n",
       "3  0.251157  3.368273   2.099426  2071.699448  538330.0\n",
       "4  0.197333  3.368273   2.099426  2071.699448  538330.0"
      ]
     },
     "execution_count": 174,
     "metadata": {},
     "output_type": "execute_result"
    }
   ],
   "source": [
    "dataset.head()"
   ]
  },
  {
   "cell_type": "code",
   "execution_count": 152,
   "metadata": {},
   "outputs": [
    {
     "name": "stdout",
     "output_type": "stream",
     "text": [
      "538330.0\n",
      "538330.0\n",
      "538330.0\n",
      "538330.0\n",
      "538330.0\n",
      "538330.0\n",
      "538330.0\n",
      "538330.0\n",
      "538330.0\n",
      "538330.0\n",
      "538330.0\n",
      "538330.0\n",
      "538330.0\n",
      "538330.0\n",
      "538330.0\n",
      "538330.0\n",
      "16\n"
     ]
    }
   ],
   "source": [
    "count =0\n",
    "for i in range(0,len(dataset+1)):\n",
    "    sqft_living2 = dataset['price'][i]\n",
    "    if(sqft_living2>1):\n",
    "        print(sqft_living2)\n",
    "        count = count+1\n",
    "print(count)"
   ]
  },
  {
   "cell_type": "code",
   "execution_count": 82,
   "metadata": {},
   "outputs": [],
   "source": [
    "bedrooms = dataset['bedrooms'].values\n",
    "bathrooms = dataset['bathrooms'].values\n",
    "size = dataset['sqft_living'].values\n",
    "price =dataset['price'].values\n",
    "\n"
   ]
  },
  {
   "cell_type": "code",
   "execution_count": 83,
   "metadata": {},
   "outputs": [
    {
     "name": "stdout",
     "output_type": "stream",
     "text": [
      "20998\n"
     ]
    }
   ],
   "source": [
    "print(len(dataset))"
   ]
  },
  {
   "cell_type": "code",
   "execution_count": 84,
   "metadata": {},
   "outputs": [
    {
     "name": "stdout",
     "output_type": "stream",
     "text": [
      "[0.01926557 0.06072131 0.01377049 0.06937705 0.05704918 0.15081967\n",
      " 0.02393443 0.02843934 0.0202623  0.03252459]\n"
     ]
    }
   ],
   "source": [
    "print(price[0:10])"
   ]
  },
  {
   "cell_type": "code",
   "execution_count": 597,
   "metadata": {},
   "outputs": [
    {
     "name": "stderr",
     "output_type": "stream",
     "text": [
      "C:\\Users\\user 1\\Anaconda3\\envs\\env_dlib\\lib\\site-packages\\mpl_toolkits\\mplot3d\\art3d.py:726: FutureWarning: elementwise comparison failed; returning scalar instead, but in the future will perform elementwise comparison\n",
      "  if zdir == 'x':\n",
      "C:\\Users\\user 1\\Anaconda3\\envs\\env_dlib\\lib\\site-packages\\mpl_toolkits\\mplot3d\\art3d.py:728: FutureWarning: elementwise comparison failed; returning scalar instead, but in the future will perform elementwise comparison\n",
      "  elif zdir == 'y':\n"
     ]
    },
    {
     "data": {
      "image/png": "[encoded data removed]",
      "text/plain": [
       "<Figure size 1440x720 with 1 Axes>"
      ]
     },
     "metadata": {},
     "output_type": "display_data"
    }
   ],
   "source": [
    "fig = plt.figure()\n",
    "ax =Axes3D(fig)\n",
    "ax.scatter(bedrooms,bathrooms,size,price,color='red')\n",
    "plt.show()"
   ]
  },
  {
   "cell_type": "code",
   "execution_count": 85,
   "metadata": {},
   "outputs": [],
   "source": [
    "m = len(train)\n",
    "x0 = np.ones(m)\n",
    "X = np.array([x0,bedrooms,bathrooms,size]).T"
   ]
  },
  {
   "cell_type": "code",
   "execution_count": 86,
   "metadata": {},
   "outputs": [],
   "source": [
    "B= np.array([0,0,0,0])\n",
    "\n",
    "Y =np.array(price)"
   ]
  },
  {
   "cell_type": "code",
   "execution_count": 87,
   "metadata": {},
   "outputs": [],
   "source": [
    "def cost_function(X,Y,B):\n",
    "    m = len(Y)\n",
    "    J = np.sum((X.dot(B) -Y) ** 2)/(2*m)\n",
    "    return J\n",
    "#reducing the cost\n"
   ]
  },
  {
   "cell_type": "code",
   "execution_count": 88,
   "metadata": {},
   "outputs": [
    {
     "name": "stdout",
     "output_type": "stream",
     "text": [
      "(20998,)\n"
     ]
    }
   ],
   "source": [
    "print(Y.shape)"
   ]
  },
  {
   "cell_type": "code",
   "execution_count": 89,
   "metadata": {},
   "outputs": [
    {
     "name": "stdout",
     "output_type": "stream",
     "text": [
      "0.0030026445063090126\n"
     ]
    }
   ],
   "source": [
    "initial_cost = cost_function(X,Y,B)\n",
    "print(initial_cost)"
   ]
  },
  {
   "cell_type": "code",
   "execution_count": 90,
   "metadata": {},
   "outputs": [],
   "source": [
    "#reducing the cost\n",
    "def gradient_descent(X,Y,B,alpha,iterations):\n",
    "    cost_history =[0] *iterations\n",
    "    m = len(Y)\n",
    "    \n",
    "    for iteration in range(iterations):\n",
    "        h = X.dot(B)\n",
    "        loss= h-Y\n",
    "        \n",
    "        gradient = X.T.dot(loss)/m\n",
    "        B=B- alpha *gradient\n",
    "        #alpha=alpha/10\n",
    "        cost = cost_function(X,Y,B)\n",
    "        #if iteration/1000==0:\n",
    "        #print(\"iteration = \",iteration)\n",
    "        cost_history[iteration] = cost\n",
    "    return B,cost_history"
   ]
  },
  {
   "cell_type": "code",
   "execution_count": 99,
   "metadata": {},
   "outputs": [
    {
     "name": "stdout",
     "output_type": "stream",
     "text": [
      "[-0.0048495  -0.03958409  0.05563359  0.40934915]\n",
      "0.0005915326103776857\n"
     ]
    }
   ],
   "source": [
    "alpha=0.9\n",
    "newB,cost_history = gradient_descent(X,Y,B,alpha,1000)\n",
    "print(newB)\n",
    "\n",
    "print(cost_history[-1])"
   ]
  },
  {
   "cell_type": "code",
   "execution_count": 92,
   "metadata": {},
   "outputs": [
    {
     "name": "stdout",
     "output_type": "stream",
     "text": [
      "0.0005915326103776857\n"
     ]
    }
   ],
   "source": []
  },
  {
   "cell_type": "code",
   "execution_count": 93,
   "metadata": {},
   "outputs": [
    {
     "name": "stdout",
     "output_type": "stream",
     "text": [
      "0.03439571515109641\n",
      "0.48850448690153614\n"
     ]
    }
   ],
   "source": [
    "# Model Evaluation - RMSE\n",
    "def rmse(Y, Y_pred):\n",
    "    rmse = np.sqrt(sum((Y - Y_pred) ** 2) / len(Y))\n",
    "    return rmse\n",
    "\n",
    "# Model Evaluation - R2 Score\n",
    "def r2_score(Y, Y_pred):\n",
    "    mean_y = np.mean(Y)\n",
    "    ss_tot = sum((Y - mean_y) ** 2)\n",
    "    ss_res = sum((Y - Y_pred) ** 2)\n",
    "    r2 = 1 - (ss_res / ss_tot)\n",
    "    return r2\n",
    "\n",
    "Y_pred = X.dot(newB)\n",
    "print(rmse(Y, Y_pred))\n",
    "print(r2_score(Y, Y_pred))"
   ]
  },
  {
   "cell_type": "code",
   "execution_count": 94,
   "metadata": {},
   "outputs": [
    {
     "name": "stdout",
     "output_type": "stream",
     "text": [
      "0.06280846211758315\n",
      "0.06937704918032786\n"
     ]
    }
   ],
   "source": [
    "print(Y_pred[3])\n",
    "print(Y[3])"
   ]
  },
  {
   "cell_type": "code",
   "execution_count": 612,
   "metadata": {},
   "outputs": [
    {
     "name": "stdout",
     "output_type": "stream",
     "text": [
      "0.0337939588674961\n",
      "0.5062452537859794\n"
     ]
    }
   ],
   "source": [
    "from sklearn.linear_model import LinearRegression\n",
    "from sklearn.metrics import mean_squared_error\n",
    "X  =  np.array([bedrooms,bathrooms,size]).T\n",
    "Y = np.array(price)\n",
    "reg = LinearRegression()\n",
    "reg = reg.fit(X,Y)\n",
    "Y_pred = reg.predict(X)\n",
    "rmse = np.sqrt(mean_squared_error(Y,Y_pred))\n",
    "r2 =reg.score(X,Y)\n",
    "print(rmse)\n",
    "print(r2)"
   ]
  },
  {
   "cell_type": "code",
   "execution_count": null,
   "metadata": {},
   "outputs": [],
   "source": []
  },
  {
   "cell_type": "code",
   "execution_count": 270,
   "metadata": {},
   "outputs": [
    {
     "name": "stdout",
     "output_type": "stream",
     "text": [
      "257678.93636465774\n",
      "0.5062452537859794\n"
     ]
    }
   ],
   "source": [
    "from sklearn.linear_model import LinearRegression\n",
    "from sklearn.metrics import mean_squared_error\n",
    "X  =  np.array([bedrooms,bathrooms,size]).T\n",
    "Y = np.array(price)\n",
    "reg = LinearRegression()\n",
    "reg = reg.fit(X,Y)\n",
    "Y_pred = reg.predict(X)\n",
    "rmse = np.sqrt(mean_squared_error(Y,Y_pred))\n",
    "r2 =reg.score(X,Y)\n",
    "print(rmse)\n",
    "print(r2)"
   ]
  },
  {
   "cell_type": "code",
   "execution_count": 296,
   "metadata": {},
   "outputs": [
    {
     "data": {
      "text/html": [
       "<div>\n",
       "<style scoped>\n",
       "    .dataframe tbody tr th:only-of-type {\n",
       "        vertical-align: middle;\n",
       "    }\n",
       "\n",
       "    .dataframe tbody tr th {\n",
       "        vertical-align: top;\n",
       "    }\n",
       "\n",
       "    .dataframe thead th {\n",
       "        text-align: right;\n",
       "    }\n",
       "</style>\n",
       "<table border=\"1\" class=\"dataframe\">\n",
       "  <thead>\n",
       "    <tr style=\"text-align: right;\">\n",
       "      <th></th>\n",
       "      <th>id</th>\n",
       "      <th>date</th>\n",
       "      <th>price</th>\n",
       "      <th>bedrooms</th>\n",
       "      <th>bathrooms</th>\n",
       "      <th>sqft_living</th>\n",
       "      <th>sqft_lot</th>\n",
       "      <th>floors</th>\n",
       "      <th>waterfront</th>\n",
       "      <th>view</th>\n",
       "      <th>...</th>\n",
       "      <th>grade</th>\n",
       "      <th>sqft_above</th>\n",
       "      <th>sqft_basement</th>\n",
       "      <th>yr_built</th>\n",
       "      <th>yr_renovated</th>\n",
       "      <th>zipcode</th>\n",
       "      <th>lat</th>\n",
       "      <th>long</th>\n",
       "      <th>sqft_living15</th>\n",
       "      <th>sqft_lot15</th>\n",
       "    </tr>\n",
       "  </thead>\n",
       "  <tbody>\n",
       "    <tr>\n",
       "      <th>0</th>\n",
       "      <td>7129300520</td>\n",
       "      <td>20141013T000000</td>\n",
       "      <td>221900.0</td>\n",
       "      <td>3</td>\n",
       "      <td>1.00</td>\n",
       "      <td>1180</td>\n",
       "      <td>5650</td>\n",
       "      <td>1.0</td>\n",
       "      <td>0</td>\n",
       "      <td>0</td>\n",
       "      <td>...</td>\n",
       "      <td>7</td>\n",
       "      <td>1180</td>\n",
       "      <td>0</td>\n",
       "      <td>1955</td>\n",
       "      <td>0</td>\n",
       "      <td>98178</td>\n",
       "      <td>47.5112</td>\n",
       "      <td>-122.257</td>\n",
       "      <td>1340</td>\n",
       "      <td>5650</td>\n",
       "    </tr>\n",
       "    <tr>\n",
       "      <th>1</th>\n",
       "      <td>6414100192</td>\n",
       "      <td>20141209T000000</td>\n",
       "      <td>538000.0</td>\n",
       "      <td>3</td>\n",
       "      <td>2.25</td>\n",
       "      <td>2570</td>\n",
       "      <td>7242</td>\n",
       "      <td>2.0</td>\n",
       "      <td>0</td>\n",
       "      <td>0</td>\n",
       "      <td>...</td>\n",
       "      <td>7</td>\n",
       "      <td>2170</td>\n",
       "      <td>400</td>\n",
       "      <td>1951</td>\n",
       "      <td>1991</td>\n",
       "      <td>98125</td>\n",
       "      <td>47.7210</td>\n",
       "      <td>-122.319</td>\n",
       "      <td>1690</td>\n",
       "      <td>7639</td>\n",
       "    </tr>\n",
       "    <tr>\n",
       "      <th>2</th>\n",
       "      <td>5631500400</td>\n",
       "      <td>20150225T000000</td>\n",
       "      <td>180000.0</td>\n",
       "      <td>2</td>\n",
       "      <td>1.00</td>\n",
       "      <td>770</td>\n",
       "      <td>10000</td>\n",
       "      <td>1.0</td>\n",
       "      <td>0</td>\n",
       "      <td>0</td>\n",
       "      <td>...</td>\n",
       "      <td>6</td>\n",
       "      <td>770</td>\n",
       "      <td>0</td>\n",
       "      <td>1933</td>\n",
       "      <td>0</td>\n",
       "      <td>98028</td>\n",
       "      <td>47.7379</td>\n",
       "      <td>-122.233</td>\n",
       "      <td>2720</td>\n",
       "      <td>8062</td>\n",
       "    </tr>\n",
       "    <tr>\n",
       "      <th>3</th>\n",
       "      <td>2487200875</td>\n",
       "      <td>20141209T000000</td>\n",
       "      <td>604000.0</td>\n",
       "      <td>4</td>\n",
       "      <td>3.00</td>\n",
       "      <td>1960</td>\n",
       "      <td>5000</td>\n",
       "      <td>1.0</td>\n",
       "      <td>0</td>\n",
       "      <td>0</td>\n",
       "      <td>...</td>\n",
       "      <td>7</td>\n",
       "      <td>1050</td>\n",
       "      <td>910</td>\n",
       "      <td>1965</td>\n",
       "      <td>0</td>\n",
       "      <td>98136</td>\n",
       "      <td>47.5208</td>\n",
       "      <td>-122.393</td>\n",
       "      <td>1360</td>\n",
       "      <td>5000</td>\n",
       "    </tr>\n",
       "    <tr>\n",
       "      <th>4</th>\n",
       "      <td>1954400510</td>\n",
       "      <td>20150218T000000</td>\n",
       "      <td>510000.0</td>\n",
       "      <td>3</td>\n",
       "      <td>2.00</td>\n",
       "      <td>1680</td>\n",
       "      <td>8080</td>\n",
       "      <td>1.0</td>\n",
       "      <td>0</td>\n",
       "      <td>0</td>\n",
       "      <td>...</td>\n",
       "      <td>8</td>\n",
       "      <td>1680</td>\n",
       "      <td>0</td>\n",
       "      <td>1987</td>\n",
       "      <td>0</td>\n",
       "      <td>98074</td>\n",
       "      <td>47.6168</td>\n",
       "      <td>-122.045</td>\n",
       "      <td>1800</td>\n",
       "      <td>7503</td>\n",
       "    </tr>\n",
       "  </tbody>\n",
       "</table>\n",
       "<p>5 rows × 21 columns</p>\n",
       "</div>"
      ],
      "text/plain": [
       "           id             date     price  bedrooms  bathrooms  sqft_living  \\\n",
       "0  7129300520  20141013T000000  221900.0         3       1.00         1180   \n",
       "1  6414100192  20141209T000000  538000.0         3       2.25         2570   \n",
       "2  5631500400  20150225T000000  180000.0         2       1.00          770   \n",
       "3  2487200875  20141209T000000  604000.0         4       3.00         1960   \n",
       "4  1954400510  20150218T000000  510000.0         3       2.00         1680   \n",
       "\n",
       "   sqft_lot  floors  waterfront  view     ...      grade  sqft_above  \\\n",
       "0      5650     1.0           0     0     ...          7        1180   \n",
       "1      7242     2.0           0     0     ...          7        2170   \n",
       "2     10000     1.0           0     0     ...          6         770   \n",
       "3      5000     1.0           0     0     ...          7        1050   \n",
       "4      8080     1.0           0     0     ...          8        1680   \n",
       "\n",
       "   sqft_basement  yr_built  yr_renovated  zipcode      lat     long  \\\n",
       "0              0      1955             0    98178  47.5112 -122.257   \n",
       "1            400      1951          1991    98125  47.7210 -122.319   \n",
       "2              0      1933             0    98028  47.7379 -122.233   \n",
       "3            910      1965             0    98136  47.5208 -122.393   \n",
       "4              0      1987             0    98074  47.6168 -122.045   \n",
       "\n",
       "   sqft_living15  sqft_lot15  \n",
       "0           1340        5650  \n",
       "1           1690        7639  \n",
       "2           2720        8062  \n",
       "3           1360        5000  \n",
       "4           1800        7503  \n",
       "\n",
       "[5 rows x 21 columns]"
      ]
     },
     "execution_count": 296,
     "metadata": {},
     "output_type": "execute_result"
    }
   ],
   "source": [
    "train.head()"
   ]
  },
  {
   "cell_type": "code",
   "execution_count": 24,
   "metadata": {},
   "outputs": [
    {
     "data": {
      "text/html": [
       "<div>\n",
       "<style scoped>\n",
       "    .dataframe tbody tr th:only-of-type {\n",
       "        vertical-align: middle;\n",
       "    }\n",
       "\n",
       "    .dataframe tbody tr th {\n",
       "        vertical-align: top;\n",
       "    }\n",
       "\n",
       "    .dataframe thead th {\n",
       "        text-align: right;\n",
       "    }\n",
       "</style>\n",
       "<table border=\"1\" class=\"dataframe\">\n",
       "  <thead>\n",
       "    <tr style=\"text-align: right;\">\n",
       "      <th></th>\n",
       "      <th>id</th>\n",
       "      <th>date</th>\n",
       "      <th>price</th>\n",
       "      <th>bedrooms</th>\n",
       "      <th>bathrooms</th>\n",
       "      <th>sqft_living</th>\n",
       "      <th>sqft_lot</th>\n",
       "      <th>floors</th>\n",
       "      <th>waterfront</th>\n",
       "      <th>view</th>\n",
       "      <th>...</th>\n",
       "      <th>grade</th>\n",
       "      <th>sqft_above</th>\n",
       "      <th>sqft_basement</th>\n",
       "      <th>yr_built</th>\n",
       "      <th>yr_renovated</th>\n",
       "      <th>zipcode</th>\n",
       "      <th>lat</th>\n",
       "      <th>long</th>\n",
       "      <th>sqft_living15</th>\n",
       "      <th>sqft_lot15</th>\n",
       "    </tr>\n",
       "  </thead>\n",
       "  <tbody>\n",
       "    <tr>\n",
       "      <th>0</th>\n",
       "      <td>3885802136</td>\n",
       "      <td>20140723T000000</td>\n",
       "      <td>899000.0</td>\n",
       "      <td>4</td>\n",
       "      <td>2.50</td>\n",
       "      <td>2580</td>\n",
       "      <td>3943</td>\n",
       "      <td>2.0</td>\n",
       "      <td>0</td>\n",
       "      <td>0</td>\n",
       "      <td>...</td>\n",
       "      <td>8</td>\n",
       "      <td>2580</td>\n",
       "      <td>0</td>\n",
       "      <td>2013</td>\n",
       "      <td>0</td>\n",
       "      <td>98033</td>\n",
       "      <td>47.6853</td>\n",
       "      <td>-122.210</td>\n",
       "      <td>1700</td>\n",
       "      <td>5772</td>\n",
       "    </tr>\n",
       "    <tr>\n",
       "      <th>1</th>\n",
       "      <td>7967000150</td>\n",
       "      <td>20140808T000000</td>\n",
       "      <td>353500.0</td>\n",
       "      <td>4</td>\n",
       "      <td>3.00</td>\n",
       "      <td>2050</td>\n",
       "      <td>4000</td>\n",
       "      <td>2.0</td>\n",
       "      <td>0</td>\n",
       "      <td>0</td>\n",
       "      <td>...</td>\n",
       "      <td>8</td>\n",
       "      <td>2050</td>\n",
       "      <td>0</td>\n",
       "      <td>2014</td>\n",
       "      <td>0</td>\n",
       "      <td>98001</td>\n",
       "      <td>47.3523</td>\n",
       "      <td>-122.275</td>\n",
       "      <td>2050</td>\n",
       "      <td>4000</td>\n",
       "    </tr>\n",
       "    <tr>\n",
       "      <th>2</th>\n",
       "      <td>7853360720</td>\n",
       "      <td>20140908T000000</td>\n",
       "      <td>485000.0</td>\n",
       "      <td>3</td>\n",
       "      <td>2.50</td>\n",
       "      <td>2430</td>\n",
       "      <td>5867</td>\n",
       "      <td>2.0</td>\n",
       "      <td>0</td>\n",
       "      <td>0</td>\n",
       "      <td>...</td>\n",
       "      <td>7</td>\n",
       "      <td>2430</td>\n",
       "      <td>0</td>\n",
       "      <td>2011</td>\n",
       "      <td>0</td>\n",
       "      <td>98065</td>\n",
       "      <td>47.5162</td>\n",
       "      <td>-121.872</td>\n",
       "      <td>2620</td>\n",
       "      <td>5866</td>\n",
       "    </tr>\n",
       "    <tr>\n",
       "      <th>3</th>\n",
       "      <td>8562790150</td>\n",
       "      <td>20140626T000000</td>\n",
       "      <td>782900.0</td>\n",
       "      <td>4</td>\n",
       "      <td>3.25</td>\n",
       "      <td>3060</td>\n",
       "      <td>3898</td>\n",
       "      <td>2.0</td>\n",
       "      <td>0</td>\n",
       "      <td>0</td>\n",
       "      <td>...</td>\n",
       "      <td>10</td>\n",
       "      <td>2300</td>\n",
       "      <td>760</td>\n",
       "      <td>2014</td>\n",
       "      <td>0</td>\n",
       "      <td>98027</td>\n",
       "      <td>47.5311</td>\n",
       "      <td>-122.073</td>\n",
       "      <td>2920</td>\n",
       "      <td>3448</td>\n",
       "    </tr>\n",
       "    <tr>\n",
       "      <th>4</th>\n",
       "      <td>1226039124</td>\n",
       "      <td>20150428T000000</td>\n",
       "      <td>529000.0</td>\n",
       "      <td>2</td>\n",
       "      <td>2.00</td>\n",
       "      <td>1540</td>\n",
       "      <td>9714</td>\n",
       "      <td>2.0</td>\n",
       "      <td>0</td>\n",
       "      <td>0</td>\n",
       "      <td>...</td>\n",
       "      <td>8</td>\n",
       "      <td>1540</td>\n",
       "      <td>0</td>\n",
       "      <td>2008</td>\n",
       "      <td>0</td>\n",
       "      <td>98177</td>\n",
       "      <td>47.7628</td>\n",
       "      <td>-122.359</td>\n",
       "      <td>1840</td>\n",
       "      <td>8179</td>\n",
       "    </tr>\n",
       "  </tbody>\n",
       "</table>\n",
       "<p>5 rows × 21 columns</p>\n",
       "</div>"
      ],
      "text/plain": [
       "           id             date     price  bedrooms  bathrooms  sqft_living  \\\n",
       "0  3885802136  20140723T000000  899000.0         4       2.50         2580   \n",
       "1  7967000150  20140808T000000  353500.0         4       3.00         2050   \n",
       "2  7853360720  20140908T000000  485000.0         3       2.50         2430   \n",
       "3  8562790150  20140626T000000  782900.0         4       3.25         3060   \n",
       "4  1226039124  20150428T000000  529000.0         2       2.00         1540   \n",
       "\n",
       "   sqft_lot  floors  waterfront  view     ...      grade  sqft_above  \\\n",
       "0      3943     2.0           0     0     ...          8        2580   \n",
       "1      4000     2.0           0     0     ...          8        2050   \n",
       "2      5867     2.0           0     0     ...          7        2430   \n",
       "3      3898     2.0           0     0     ...         10        2300   \n",
       "4      9714     2.0           0     0     ...          8        1540   \n",
       "\n",
       "   sqft_basement  yr_built  yr_renovated  zipcode      lat     long  \\\n",
       "0              0      2013             0    98033  47.6853 -122.210   \n",
       "1              0      2014             0    98001  47.3523 -122.275   \n",
       "2              0      2011             0    98065  47.5162 -121.872   \n",
       "3            760      2014             0    98027  47.5311 -122.073   \n",
       "4              0      2008             0    98177  47.7628 -122.359   \n",
       "\n",
       "   sqft_living15  sqft_lot15  \n",
       "0           1700        5772  \n",
       "1           2050        4000  \n",
       "2           2620        5866  \n",
       "3           2920        3448  \n",
       "4           1840        8179  \n",
       "\n",
       "[5 rows x 21 columns]"
      ]
     },
     "execution_count": 24,
     "metadata": {},
     "output_type": "execute_result"
    }
   ],
   "source": [
    "test = pd.read_csv('test.csv',delimiter =',',encoding='utf-8')\n",
    "test.head()"
   ]
  },
  {
   "cell_type": "code",
   "execution_count": 33,
   "metadata": {},
   "outputs": [
    {
     "data": {
      "text/html": [
       "<div>\n",
       "<style scoped>\n",
       "    .dataframe tbody tr th:only-of-type {\n",
       "        vertical-align: middle;\n",
       "    }\n",
       "\n",
       "    .dataframe tbody tr th {\n",
       "        vertical-align: top;\n",
       "    }\n",
       "\n",
       "    .dataframe thead th {\n",
       "        text-align: right;\n",
       "    }\n",
       "</style>\n",
       "<table border=\"1\" class=\"dataframe\">\n",
       "  <thead>\n",
       "    <tr style=\"text-align: right;\">\n",
       "      <th></th>\n",
       "      <th>id</th>\n",
       "      <th>bedrooms</th>\n",
       "      <th>bathrooms</th>\n",
       "      <th>sqft_living</th>\n",
       "      <th>price</th>\n",
       "    </tr>\n",
       "  </thead>\n",
       "  <tbody>\n",
       "    <tr>\n",
       "      <th>0</th>\n",
       "      <td>3885802136</td>\n",
       "      <td>4</td>\n",
       "      <td>2.50</td>\n",
       "      <td>2580</td>\n",
       "      <td>899000.0</td>\n",
       "    </tr>\n",
       "    <tr>\n",
       "      <th>1</th>\n",
       "      <td>7967000150</td>\n",
       "      <td>4</td>\n",
       "      <td>3.00</td>\n",
       "      <td>2050</td>\n",
       "      <td>353500.0</td>\n",
       "    </tr>\n",
       "    <tr>\n",
       "      <th>2</th>\n",
       "      <td>7853360720</td>\n",
       "      <td>3</td>\n",
       "      <td>2.50</td>\n",
       "      <td>2430</td>\n",
       "      <td>485000.0</td>\n",
       "    </tr>\n",
       "    <tr>\n",
       "      <th>3</th>\n",
       "      <td>8562790150</td>\n",
       "      <td>4</td>\n",
       "      <td>3.25</td>\n",
       "      <td>3060</td>\n",
       "      <td>782900.0</td>\n",
       "    </tr>\n",
       "    <tr>\n",
       "      <th>4</th>\n",
       "      <td>1226039124</td>\n",
       "      <td>2</td>\n",
       "      <td>2.00</td>\n",
       "      <td>1540</td>\n",
       "      <td>529000.0</td>\n",
       "    </tr>\n",
       "  </tbody>\n",
       "</table>\n",
       "</div>"
      ],
      "text/plain": [
       "           id  bedrooms  bathrooms  sqft_living     price\n",
       "0  3885802136         4       2.50         2580  899000.0\n",
       "1  7967000150         4       3.00         2050  353500.0\n",
       "2  7853360720         3       2.50         2430  485000.0\n",
       "3  8562790150         4       3.25         3060  782900.0\n",
       "4  1226039124         2       2.00         1540  529000.0"
      ]
     },
     "execution_count": 33,
     "metadata": {},
     "output_type": "execute_result"
    }
   ],
   "source": [
    "test_swap = test[['id','price','bedrooms','bathrooms','sqft_living']]\n",
    "\n",
    "test_swap1= test_swap[['id','bedrooms','bathrooms','sqft_living','price']]\n",
    "test_swap1.head()"
   ]
  },
  {
   "cell_type": "code",
   "execution_count": 40,
   "metadata": {},
   "outputs": [],
   "source": [
    "from sklearn.preprocessing import MinMaxScaler\n",
    "min_max=MinMaxScaler()\n",
    "#Scaling down both train and test data set\n",
    "test_swap2=min_max.fit_transform(test_swap1[['id','bedrooms', 'bathrooms',\n",
    "                'sqft_living', 'price']])\n"
   ]
  },
  {
   "cell_type": "code",
   "execution_count": 41,
   "metadata": {},
   "outputs": [
    {
     "name": "stdout",
     "output_type": "stream",
     "text": [
      "[[0.39481143 0.6        0.30434783 0.31831395 0.20562139]\n",
      " [0.81003144 0.6        0.39130435 0.24127907 0.04320252]\n",
      " [0.79846979 0.4        0.30434783 0.29651163 0.08235574]\n",
      " ...\n",
      " [0.1544511  0.2        0.         0.09156977 0.05767314]\n",
      " [0.02910876 0.4        0.30434783 0.17587209 0.05704758]\n",
      " [0.1544511  0.2        0.         0.09156977 0.03471685]]\n"
     ]
    }
   ],
   "source": [
    "print(test_swap2)"
   ]
  },
  {
   "cell_type": "code",
   "execution_count": 44,
   "metadata": {},
   "outputs": [],
   "source": [
    "dataset_test = pd.DataFrame({'ids':test_swap2[:,0],'bedrooms':test_swap2[:,1],'bathrooms':test_swap2[:,2],'sqft_living':test_swap2[:,3],'price':test_swap2[:,4]})\n",
    "#dataset = pd.DataFrame({'Column1':data[:,0],'Column2':data[:,1]})\n",
    "#['id','price','bedrooms','bathrooms','sqft_living']]\n",
    "#'id','bedrooms', 'bathrooms',\n",
    "                #'sqft_living', 'price'"
   ]
  },
  {
   "cell_type": "code",
   "execution_count": 48,
   "metadata": {},
   "outputs": [],
   "source": [
    "bedrooms_test = dataset_test['bedrooms'].values\n",
    "bathrooms_test = dataset_test['bathrooms'].values\n",
    "size_test = dataset_test['sqft_living'].values\n",
    "price_test =dataset_test['price'].values\n",
    "\n"
   ]
  },
  {
   "cell_type": "code",
   "execution_count": 47,
   "metadata": {},
   "outputs": [
    {
     "data": {
      "text/html": [
       "<div>\n",
       "<style scoped>\n",
       "    .dataframe tbody tr th:only-of-type {\n",
       "        vertical-align: middle;\n",
       "    }\n",
       "\n",
       "    .dataframe tbody tr th {\n",
       "        vertical-align: top;\n",
       "    }\n",
       "\n",
       "    .dataframe thead th {\n",
       "        text-align: right;\n",
       "    }\n",
       "</style>\n",
       "<table border=\"1\" class=\"dataframe\">\n",
       "  <thead>\n",
       "    <tr style=\"text-align: right;\">\n",
       "      <th></th>\n",
       "      <th>ids</th>\n",
       "      <th>bedrooms</th>\n",
       "      <th>bathrooms</th>\n",
       "      <th>sqft_living</th>\n",
       "      <th>price</th>\n",
       "    </tr>\n",
       "  </thead>\n",
       "  <tbody>\n",
       "    <tr>\n",
       "      <th>0</th>\n",
       "      <td>0.394811</td>\n",
       "      <td>0.6</td>\n",
       "      <td>0.304348</td>\n",
       "      <td>0.318314</td>\n",
       "      <td>0.205621</td>\n",
       "    </tr>\n",
       "    <tr>\n",
       "      <th>1</th>\n",
       "      <td>0.810031</td>\n",
       "      <td>0.6</td>\n",
       "      <td>0.391304</td>\n",
       "      <td>0.241279</td>\n",
       "      <td>0.043203</td>\n",
       "    </tr>\n",
       "    <tr>\n",
       "      <th>2</th>\n",
       "      <td>0.798470</td>\n",
       "      <td>0.4</td>\n",
       "      <td>0.304348</td>\n",
       "      <td>0.296512</td>\n",
       "      <td>0.082356</td>\n",
       "    </tr>\n",
       "    <tr>\n",
       "      <th>3</th>\n",
       "      <td>0.870647</td>\n",
       "      <td>0.6</td>\n",
       "      <td>0.434783</td>\n",
       "      <td>0.388081</td>\n",
       "      <td>0.171053</td>\n",
       "    </tr>\n",
       "    <tr>\n",
       "      <th>4</th>\n",
       "      <td>0.124208</td>\n",
       "      <td>0.2</td>\n",
       "      <td>0.217391</td>\n",
       "      <td>0.167151</td>\n",
       "      <td>0.095456</td>\n",
       "    </tr>\n",
       "  </tbody>\n",
       "</table>\n",
       "</div>"
      ],
      "text/plain": [
       "        ids  bedrooms  bathrooms  sqft_living     price\n",
       "0  0.394811       0.6   0.304348     0.318314  0.205621\n",
       "1  0.810031       0.6   0.391304     0.241279  0.043203\n",
       "2  0.798470       0.4   0.304348     0.296512  0.082356\n",
       "3  0.870647       0.6   0.434783     0.388081  0.171053\n",
       "4  0.124208       0.2   0.217391     0.167151  0.095456"
      ]
     },
     "execution_count": 47,
     "metadata": {},
     "output_type": "execute_result"
    }
   ],
   "source": [
    "m = len(test)\n",
    "x0 = np.ones(m)\n",
    "X = np.array([x0,bedrooms_test,bathrooms_test,size_test]).T\n",
    "B= np.array([0,0,0,0])\n",
    "\n",
    "Y =np.array(price)\n",
    "def cost_function(X,Y,B):\n",
    "    m = len(Y)\n",
    "    J = np.sum((X.dot(B) -Y) ** 2)/(2*m)\n",
    "    return J\n",
    "initial_cost = cost_function(X,Y,B)\n",
    "print(initial_cost)\n",
    "def gradient_descent(X,Y,B,alpha,iterations):\n",
    "    cost_history =[0] *iterations\n",
    "    m = len(Y)\n",
    "    \n",
    "    for iteration in range(iterations):\n",
    "        h = X.dot(B)\n",
    "        loss= h-Y\n",
    "        \n",
    "        gradient = X.T.dot(loss)/m\n",
    "        B=B- alpha *gradient\n",
    "        #alpha=alpha/10\n",
    "        cost = cost_function(X,Y,B)\n",
    "        #if iteration/1000==0:\n",
    "        #print(\"iteration = \",iteration)\n",
    "        cost_history[iteration] = cost\n",
    "    return B,cost_history\n",
    "alpha=0.9\n",
    "newB,cost_history = gradient_descent(X,Y,B,alpha,10000000)\n",
    "print(newB)\n",
    "\n",
    "print(cost_history[-1])\n",
    "# Model Evaluation - RMSE\n",
    "def rmse(Y, Y_pred):\n",
    "    rmse = np.sqrt(sum((Y - Y_pred) ** 2) / len(Y))\n",
    "    return rmse\n",
    "\n",
    "# Model Evaluation - R2 Score\n",
    "def r2_score(Y, Y_pred):\n",
    "    mean_y = np.mean(Y)\n",
    "    ss_tot = sum((Y - mean_y) ** 2)\n",
    "    ss_res = sum((Y - Y_pred) ** 2)\n",
    "    r2 = 1 - (ss_res / ss_tot)\n",
    "    return r2\n",
    "\n",
    "Y_pred = X.dot(newB)\n",
    "print(rmse(Y, Y_pred))\n",
    "print(r2_score(Y, Y_pred))"
   ]
  },
  {
   "cell_type": "markdown",
   "metadata": {},
   "source": []
  },
  {
   "cell_type": "code",
   "execution_count": 58,
   "metadata": {},
   "outputs": [
    {
     "name": "stdout",
     "output_type": "stream",
     "text": [
      "615\n",
      "615\n"
     ]
    }
   ],
   "source": [
    "features_cols =['bedrooms','bathrooms','sqft_living']\n",
    "X =dataset_test[features_cols]\n",
    "#X  =  np.array(bedrooms_test,bathrooms_test,size_test)\n",
    "Y = dataset_test['price']\n",
    "from sklearn.cross_validation import train_test_split\n",
    "print(len(Y))\n",
    "print(len(X))\n",
    "X_train,X_test,y_train,y_test = train_test_split(X,Y)"
   ]
  },
  {
   "cell_type": "code",
   "execution_count": 64,
   "metadata": {},
   "outputs": [],
   "source": [
    "X_train = X_train+X_test\n",
    "y_train= y_train+y_test"
   ]
  },
  {
   "cell_type": "code",
   "execution_count": 65,
   "metadata": {},
   "outputs": [
    {
     "data": {
      "text/plain": [
       "615"
      ]
     },
     "execution_count": 65,
     "metadata": {},
     "output_type": "execute_result"
    }
   ],
   "source": [
    "len(X_train)"
   ]
  },
  {
   "cell_type": "code",
   "execution_count": 111,
   "metadata": {},
   "outputs": [
    {
     "name": "stdout",
     "output_type": "stream",
     "text": [
      "0.11762577101412\n"
     ]
    }
   ],
   "source": [
    "c= -0.0048495+ (-0.03958409*0.4) +0.05563359*0.304348 + 0.40934915*0.296512\n",
    "print(c)\n"
   ]
  },
  {
   "cell_type": "code",
   "execution_count": 112,
   "metadata": {},
   "outputs": [
    {
     "name": "stdout",
     "output_type": "stream",
     "text": [
      "6.717401159099518\n"
     ]
    }
   ],
   "source": [
    "d = (0.11762577101412-0.082356)/0.082356\n",
    "d_adjusted= max(d-0.1,0)\n",
    "final_value = max(1-d_adjusted,0)*10\n",
    "print(final_value)"
   ]
  },
  {
   "cell_type": "code",
   "execution_count": 175,
   "metadata": {},
   "outputs": [
    {
     "ename": "ModuleNotFoundError",
     "evalue": "No module named 'Sframe'",
     "output_type": "error",
     "traceback": [
      "\u001b[1;31m---------------------------------------------------------------------------\u001b[0m",
      "\u001b[1;31mModuleNotFoundError\u001b[0m                       Traceback (most recent call last)",
      "\u001b[1;32m<ipython-input-175-0225e33de71f>\u001b[0m in \u001b[0;36m<module>\u001b[1;34m()\u001b[0m\n\u001b[1;32m----> 1\u001b[1;33m \u001b[1;32mimport\u001b[0m \u001b[0mSframe\u001b[0m\u001b[1;33m\u001b[0m\u001b[0m\n\u001b[0m",
      "\u001b[1;31mModuleNotFoundError\u001b[0m: No module named 'Sframe'"
     ]
    }
   ],
   "source": [
    "import Sframe"
   ]
  },
  {
   "cell_type": "code",
   "execution_count": null,
   "metadata": {},
   "outputs": [],
   "source": []
  }
 ],
 "metadata": {
  "kernelspec": {
   "display_name": "Python 3",
   "language": "python",
   "name": "python3"
  },
  "language_info": {
   "codemirror_mode": {
    "name": "ipython",
    "version": 3
   },
   "file_extension": ".py",
   "mimetype": "text/x-python",
   "name": "python",
   "nbconvert_exporter": "python",
   "pygments_lexer": "ipython3",
   "version": "3.6.5"
  }
 },
 "nbformat": 4,
 "nbformat_minor": 2
}
